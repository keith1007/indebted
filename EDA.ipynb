{
 "cells": [
  {
   "cell_type": "markdown",
   "id": "886923d7-7215-481d-ac0e-154a306f4c12",
   "metadata": {},
   "source": [
    "# InDebted DA Takehome - Keith Santos\n",
    "I'll be doing an EDA to answer these 5 questions and hopefully gain more insights \n",
    "\n",
    "1. How should we handle the missing values for the columns age and customer_country?\n",
    "2. What time of the day should we send our messages in each country?\n",
    "3. What should be the preferred channel to use when communicating with customers?\n",
    "4. What are the main metrics, dimensions and filters to be included in the dashboard?\n",
    "5. What is the communications performance over time? What could be causing this behaviour?\n"
   ]
  },
  {
   "cell_type": "code",
   "execution_count": 2,
   "id": "91ade0b4-de60-4bfe-89b0-7b5a9afed3d7",
   "metadata": {},
   "outputs": [],
   "source": [
    "import os\n",
    "import pandas as pd\n",
    "import numpy as np\n",
    "import matplotlib.pyplot as plt\n",
    "import seaborn as sns\n",
    "from scipy import stats\n",
    "from scipy.stats import mannwhitneyu\n",
    "\n",
    "pd.set_option('display.max_rows', None)"
   ]
  },
  {
   "cell_type": "code",
   "execution_count": 3,
   "id": "aadb114f-063f-4e22-92f3-b4fbd64e233d",
   "metadata": {},
   "outputs": [
    {
     "name": "stdout",
     "output_type": "stream",
     "text": [
      "9751\n",
      "(145941, 15)\n"
     ]
    },
    {
     "data": {
      "text/html": [
       "<div>\n",
       "<style scoped>\n",
       "    .dataframe tbody tr th:only-of-type {\n",
       "        vertical-align: middle;\n",
       "    }\n",
       "\n",
       "    .dataframe tbody tr th {\n",
       "        vertical-align: top;\n",
       "    }\n",
       "\n",
       "    .dataframe thead th {\n",
       "        text-align: right;\n",
       "    }\n",
       "</style>\n",
       "<table border=\"1\" class=\"dataframe\">\n",
       "  <thead>\n",
       "    <tr style=\"text-align: right;\">\n",
       "      <th></th>\n",
       "      <th>message_id</th>\n",
       "      <th>customer_id</th>\n",
       "      <th>sent_at</th>\n",
       "      <th>clicked</th>\n",
       "      <th>converted</th>\n",
       "      <th>client_id</th>\n",
       "      <th>gender</th>\n",
       "      <th>customer_country</th>\n",
       "      <th>age</th>\n",
       "      <th>created_at</th>\n",
       "      <th>client_name</th>\n",
       "      <th>product_type</th>\n",
       "      <th>client_country</th>\n",
       "      <th>channel</th>\n",
       "      <th>message_number</th>\n",
       "    </tr>\n",
       "  </thead>\n",
       "  <tbody>\n",
       "    <tr>\n",
       "      <th>0</th>\n",
       "      <td>28d82c62db5989d9441351f58738c6a8</td>\n",
       "      <td>f13e966f9dc1e2aa7bffec6c9efa8e11</td>\n",
       "      <td>2021-01-04 10:03:16.376000+00:00</td>\n",
       "      <td>0</td>\n",
       "      <td>0</td>\n",
       "      <td>cfcd208495d565ef66e7dff9f98764da</td>\n",
       "      <td>F</td>\n",
       "      <td>NaN</td>\n",
       "      <td>51.0</td>\n",
       "      <td>2021-01-03 15:58:50.376000+00:00</td>\n",
       "      <td>SwanPay</td>\n",
       "      <td>BNPL</td>\n",
       "      <td>UK</td>\n",
       "      <td>SMS</td>\n",
       "      <td>1.0</td>\n",
       "    </tr>\n",
       "    <tr>\n",
       "      <th>1</th>\n",
       "      <td>0f98a1bbf7f2b66f420816a65c8d9b77</td>\n",
       "      <td>f13e966f9dc1e2aa7bffec6c9efa8e11</td>\n",
       "      <td>2021-01-12 08:34:09.376000+00:00</td>\n",
       "      <td>0</td>\n",
       "      <td>0</td>\n",
       "      <td>cfcd208495d565ef66e7dff9f98764da</td>\n",
       "      <td>F</td>\n",
       "      <td>NaN</td>\n",
       "      <td>51.0</td>\n",
       "      <td>2021-01-03 15:58:50.376000+00:00</td>\n",
       "      <td>SwanPay</td>\n",
       "      <td>BNPL</td>\n",
       "      <td>UK</td>\n",
       "      <td>SMS</td>\n",
       "      <td>2.0</td>\n",
       "    </tr>\n",
       "    <tr>\n",
       "      <th>2</th>\n",
       "      <td>97f9ed967d2334ce0b4ebfcfc9b5c25c</td>\n",
       "      <td>f13e966f9dc1e2aa7bffec6c9efa8e11</td>\n",
       "      <td>2021-01-19 08:58:11.376000+00:00</td>\n",
       "      <td>0</td>\n",
       "      <td>0</td>\n",
       "      <td>cfcd208495d565ef66e7dff9f98764da</td>\n",
       "      <td>F</td>\n",
       "      <td>NaN</td>\n",
       "      <td>51.0</td>\n",
       "      <td>2021-01-03 15:58:50.376000+00:00</td>\n",
       "      <td>SwanPay</td>\n",
       "      <td>BNPL</td>\n",
       "      <td>UK</td>\n",
       "      <td>Email</td>\n",
       "      <td>3.0</td>\n",
       "    </tr>\n",
       "    <tr>\n",
       "      <th>3</th>\n",
       "      <td>3d0615ca493d69e16265ab688495c134</td>\n",
       "      <td>f13e966f9dc1e2aa7bffec6c9efa8e11</td>\n",
       "      <td>2021-01-28 10:43:04.376000+00:00</td>\n",
       "      <td>0</td>\n",
       "      <td>0</td>\n",
       "      <td>cfcd208495d565ef66e7dff9f98764da</td>\n",
       "      <td>F</td>\n",
       "      <td>NaN</td>\n",
       "      <td>51.0</td>\n",
       "      <td>2021-01-03 15:58:50.376000+00:00</td>\n",
       "      <td>SwanPay</td>\n",
       "      <td>BNPL</td>\n",
       "      <td>UK</td>\n",
       "      <td>Email</td>\n",
       "      <td>4.0</td>\n",
       "    </tr>\n",
       "    <tr>\n",
       "      <th>4</th>\n",
       "      <td>3eb3a03a007bd1adf7482e6d95f7b942</td>\n",
       "      <td>f13e966f9dc1e2aa7bffec6c9efa8e11</td>\n",
       "      <td>2021-02-04 11:28:56.376000+00:00</td>\n",
       "      <td>0</td>\n",
       "      <td>0</td>\n",
       "      <td>cfcd208495d565ef66e7dff9f98764da</td>\n",
       "      <td>F</td>\n",
       "      <td>NaN</td>\n",
       "      <td>51.0</td>\n",
       "      <td>2021-01-03 15:58:50.376000+00:00</td>\n",
       "      <td>SwanPay</td>\n",
       "      <td>BNPL</td>\n",
       "      <td>UK</td>\n",
       "      <td>Email</td>\n",
       "      <td>5.0</td>\n",
       "    </tr>\n",
       "  </tbody>\n",
       "</table>\n",
       "</div>"
      ],
      "text/plain": [
       "                         message_id                       customer_id  \\\n",
       "0  28d82c62db5989d9441351f58738c6a8  f13e966f9dc1e2aa7bffec6c9efa8e11   \n",
       "1  0f98a1bbf7f2b66f420816a65c8d9b77  f13e966f9dc1e2aa7bffec6c9efa8e11   \n",
       "2  97f9ed967d2334ce0b4ebfcfc9b5c25c  f13e966f9dc1e2aa7bffec6c9efa8e11   \n",
       "3  3d0615ca493d69e16265ab688495c134  f13e966f9dc1e2aa7bffec6c9efa8e11   \n",
       "4  3eb3a03a007bd1adf7482e6d95f7b942  f13e966f9dc1e2aa7bffec6c9efa8e11   \n",
       "\n",
       "                            sent_at  clicked  converted  \\\n",
       "0  2021-01-04 10:03:16.376000+00:00        0          0   \n",
       "1  2021-01-12 08:34:09.376000+00:00        0          0   \n",
       "2  2021-01-19 08:58:11.376000+00:00        0          0   \n",
       "3  2021-01-28 10:43:04.376000+00:00        0          0   \n",
       "4  2021-02-04 11:28:56.376000+00:00        0          0   \n",
       "\n",
       "                          client_id gender customer_country   age  \\\n",
       "0  cfcd208495d565ef66e7dff9f98764da      F              NaN  51.0   \n",
       "1  cfcd208495d565ef66e7dff9f98764da      F              NaN  51.0   \n",
       "2  cfcd208495d565ef66e7dff9f98764da      F              NaN  51.0   \n",
       "3  cfcd208495d565ef66e7dff9f98764da      F              NaN  51.0   \n",
       "4  cfcd208495d565ef66e7dff9f98764da      F              NaN  51.0   \n",
       "\n",
       "                         created_at client_name product_type client_country  \\\n",
       "0  2021-01-03 15:58:50.376000+00:00     SwanPay         BNPL             UK   \n",
       "1  2021-01-03 15:58:50.376000+00:00     SwanPay         BNPL             UK   \n",
       "2  2021-01-03 15:58:50.376000+00:00     SwanPay         BNPL             UK   \n",
       "3  2021-01-03 15:58:50.376000+00:00     SwanPay         BNPL             UK   \n",
       "4  2021-01-03 15:58:50.376000+00:00     SwanPay         BNPL             UK   \n",
       "\n",
       "  channel  message_number  \n",
       "0     SMS             1.0  \n",
       "1     SMS             2.0  \n",
       "2   Email             3.0  \n",
       "3   Email             4.0  \n",
       "4   Email             5.0  "
      ]
     },
     "execution_count": 3,
     "metadata": {},
     "output_type": "execute_result"
    }
   ],
   "source": [
    "df_csv = pd.read_csv('communications.csv')#, on_bad_lines='skip')\n",
    "print(df_csv[\"customer_id\"].nunique())\n",
    "print(df_csv.shape)\n",
    "df_csv.head()"
   ]
  },
  {
   "cell_type": "code",
   "execution_count": 4,
   "id": "bd142693-a58d-4a9e-88ee-dbf128b6a9dd",
   "metadata": {},
   "outputs": [
    {
     "data": {
      "text/plain": [
       "message_id           object\n",
       "customer_id          object\n",
       "sent_at              object\n",
       "clicked               int64\n",
       "converted             int64\n",
       "client_id            object\n",
       "gender               object\n",
       "customer_country     object\n",
       "age                 float64\n",
       "created_at           object\n",
       "client_name          object\n",
       "product_type         object\n",
       "client_country       object\n",
       "channel              object\n",
       "message_number      float64\n",
       "dtype: object"
      ]
     },
     "execution_count": 4,
     "metadata": {},
     "output_type": "execute_result"
    }
   ],
   "source": [
    "df_csv.dtypes"
   ]
  },
  {
   "cell_type": "markdown",
   "id": "5d0236e3-cead-4ef8-b352-59025cce2e95",
   "metadata": {},
   "source": [
    "## 1. How should we handle the missing values for the columns age and customer_country?\n",
    "- Tried to see if splitting the UTC from the datetime and doing the value counts would yield certain values that correspond to customer_country but didn't expect so much variation for UTC "
   ]
  },
  {
   "cell_type": "code",
   "execution_count": 5,
   "id": "d2437b1d-be6a-41ce-b353-795b1f69c022",
   "metadata": {},
   "outputs": [
    {
     "data": {
      "text/plain": [
       "message_id              0\n",
       "customer_id             0\n",
       "sent_at                 0\n",
       "clicked                 0\n",
       "converted               0\n",
       "client_id               0\n",
       "gender              31676\n",
       "customer_country    30146\n",
       "age                 22020\n",
       "created_at              0\n",
       "client_name             0\n",
       "product_type            0\n",
       "client_country          0\n",
       "channel                 0\n",
       "message_number          0\n",
       "dtype: int64"
      ]
     },
     "execution_count": 5,
     "metadata": {},
     "output_type": "execute_result"
    }
   ],
   "source": [
    "df_csv.isna().sum()"
   ]
  },
  {
   "cell_type": "code",
   "execution_count": 6,
   "id": "ccfeb62b-dfe0-4beb-a178-8e9bb2f5727a",
   "metadata": {},
   "outputs": [
    {
     "data": {
      "text/plain": [
       "UK    49146\n",
       "CA    33911\n",
       "NZ    32738\n",
       "Name: customer_country, dtype: int64"
      ]
     },
     "execution_count": 6,
     "metadata": {},
     "output_type": "execute_result"
    }
   ],
   "source": [
    "df_csv['customer_country'].value_counts()"
   ]
  },
  {
   "cell_type": "code",
   "execution_count": 7,
   "id": "00872980-9765-4013-8ed9-c8a6ca5cedd0",
   "metadata": {},
   "outputs": [],
   "source": [
    "#df_csv[\"age\"].value_counts().sort_index()"
   ]
  },
  {
   "cell_type": "markdown",
   "id": "e2b63428-87d3-4d89-80ee-9283456b15ab",
   "metadata": {},
   "source": [
    "UTC doesn't seem to be customer country specific and some NaNs share the same UTC with only 1 other customer country but don't think it's indicative + too much work to manually check if there are 2 matches"
   ]
  },
  {
   "cell_type": "code",
   "execution_count": 8,
   "id": "19dea824-461e-4d4b-95db-c4708a0bed8a",
   "metadata": {},
   "outputs": [],
   "source": [
    "df_UTCtest = pd.DataFrame(columns=['customer_country','UTC'])\n",
    "df_UTCtest['customer_country'] = df_csv['customer_country'].copy()\n",
    "df_UTCtest['UTC'] = df_csv['sent_at'].str.split('.').str[1].copy()"
   ]
  },
  {
   "cell_type": "code",
   "execution_count": 9,
   "id": "f2aebfe5-04dd-4e6a-9b8d-98f34ce02953",
   "metadata": {},
   "outputs": [
    {
     "data": {
      "text/html": [
       "<div>\n",
       "<style scoped>\n",
       "    .dataframe tbody tr th:only-of-type {\n",
       "        vertical-align: middle;\n",
       "    }\n",
       "\n",
       "    .dataframe tbody tr th {\n",
       "        vertical-align: top;\n",
       "    }\n",
       "\n",
       "    .dataframe thead th {\n",
       "        text-align: right;\n",
       "    }\n",
       "</style>\n",
       "<table border=\"1\" class=\"dataframe\">\n",
       "  <thead>\n",
       "    <tr style=\"text-align: right;\">\n",
       "      <th></th>\n",
       "      <th>customer_country</th>\n",
       "      <th>UTC</th>\n",
       "    </tr>\n",
       "  </thead>\n",
       "  <tbody>\n",
       "    <tr>\n",
       "      <th>0</th>\n",
       "      <td>None</td>\n",
       "      <td>376000+00:00</td>\n",
       "    </tr>\n",
       "    <tr>\n",
       "      <th>1</th>\n",
       "      <td>None</td>\n",
       "      <td>376000+00:00</td>\n",
       "    </tr>\n",
       "    <tr>\n",
       "      <th>2</th>\n",
       "      <td>None</td>\n",
       "      <td>376000+00:00</td>\n",
       "    </tr>\n",
       "    <tr>\n",
       "      <th>3</th>\n",
       "      <td>None</td>\n",
       "      <td>376000+00:00</td>\n",
       "    </tr>\n",
       "    <tr>\n",
       "      <th>4</th>\n",
       "      <td>None</td>\n",
       "      <td>376000+00:00</td>\n",
       "    </tr>\n",
       "  </tbody>\n",
       "</table>\n",
       "</div>"
      ],
      "text/plain": [
       "  customer_country           UTC\n",
       "0             None  376000+00:00\n",
       "1             None  376000+00:00\n",
       "2             None  376000+00:00\n",
       "3             None  376000+00:00\n",
       "4             None  376000+00:00"
      ]
     },
     "execution_count": 9,
     "metadata": {},
     "output_type": "execute_result"
    }
   ],
   "source": [
    "df_UTCtest.fillna('None', inplace=True)\n",
    "df_UTCtest.head()"
   ]
  },
  {
   "cell_type": "code",
   "execution_count": 10,
   "id": "027c22af-6653-41fe-82b5-c077893d0418",
   "metadata": {},
   "outputs": [
    {
     "data": {
      "text/plain": [
       "UK      49146\n",
       "CA      33911\n",
       "NZ      32738\n",
       "None    30146\n",
       "Name: customer_country, dtype: int64"
      ]
     },
     "execution_count": 10,
     "metadata": {},
     "output_type": "execute_result"
    }
   ],
   "source": [
    "df_UTCtest['customer_country'].value_counts()"
   ]
  },
  {
   "cell_type": "markdown",
   "id": "f54b5e03-2e30-47ec-96e7-cc74f5143f4c",
   "metadata": {},
   "source": [
    "Comparing the means and medians of the messages each person receives comparing ones that have missing info values and the ones that don't"
   ]
  },
  {
   "cell_type": "code",
   "execution_count": 11,
   "id": "a9001af4-a975-4e5d-8c64-b10db351123a",
   "metadata": {},
   "outputs": [
    {
     "data": {
      "text/plain": [
       "(30146, 15)"
      ]
     },
     "execution_count": 11,
     "metadata": {},
     "output_type": "execute_result"
    }
   ],
   "source": [
    "df_missing_customercountries = df_csv.loc[df_csv['customer_country'].isna()].copy()\n",
    "df_missing_customercountries.shape"
   ]
  },
  {
   "cell_type": "code",
   "execution_count": 12,
   "id": "23df5e50-909f-4ecd-8ec0-25bc3acf9cc6",
   "metadata": {},
   "outputs": [
    {
     "data": {
      "text/plain": [
       "(115795, 15)"
      ]
     },
     "execution_count": 12,
     "metadata": {},
     "output_type": "execute_result"
    }
   ],
   "source": [
    "df_complete_customercountries = df_csv.loc[df_csv['customer_country'].notnull()].copy()\n",
    "df_complete_customercountries.shape"
   ]
  },
  {
   "cell_type": "code",
   "execution_count": 13,
   "id": "538148f8-f873-4493-8880-b4872a7056ec",
   "metadata": {},
   "outputs": [
    {
     "name": "stdout",
     "output_type": "stream",
     "text": [
      "15.891407485503427\n",
      "14.966772638703723\n",
      "14.743442831678125\n",
      "14.0\n",
      "13.0\n",
      "12.0\n"
     ]
    }
   ],
   "source": [
    "column_holder = 'customer_id'\n",
    "\n",
    "print(df_missing_customercountries[column_holder].value_counts().mean())\n",
    "print(df_csv[column_holder].value_counts().mean())\n",
    "print(df_complete_customercountries[column_holder].value_counts().mean())\n",
    "\n",
    "print(df_missing_customercountries[column_holder].value_counts().median())\n",
    "print(df_csv[column_holder].value_counts().median())\n",
    "print(df_complete_customercountries[column_holder].value_counts().median())"
   ]
  },
  {
   "cell_type": "code",
   "execution_count": 14,
   "id": "2285a23e-cc6e-4945-9f96-c546360b1a82",
   "metadata": {},
   "outputs": [
    {
     "name": "stdout",
     "output_type": "stream",
     "text": [
      "(1897, 1)\n",
      "(7854, 1)\n"
     ]
    }
   ],
   "source": [
    "df_missing_valcounts = pd.DataFrame(columns=['messages_per_person'])\n",
    "df_complete_valcounts = pd.DataFrame(columns=['messages_per_person'])\n",
    "\n",
    "df_missing_valcounts[\"messages_per_person\"] = df_missing_customercountries[column_holder].value_counts().values\n",
    "df_complete_valcounts[\"messages_per_person\"] = df_complete_customercountries[column_holder].value_counts().values\n",
    "\n",
    "print(df_missing_valcounts.shape)\n",
    "print(df_complete_valcounts.shape)"
   ]
  },
  {
   "cell_type": "markdown",
   "id": "00cd4893-5c03-4617-8592-e5f38b028ccb",
   "metadata": {},
   "source": [
    "Mann Whitney U test shows a statistically significant p when comparing the samples of numbers of messages per person that have missing customer country vs that don't have missing customer country"
   ]
  },
  {
   "cell_type": "code",
   "execution_count": 15,
   "id": "68f382c3-efb6-448e-993a-edbb7a65dc88",
   "metadata": {},
   "outputs": [
    {
     "name": "stdout",
     "output_type": "stream",
     "text": [
      "2.5366137928287326e-05\n"
     ]
    }
   ],
   "source": [
    "_, pnorm = mannwhitneyu(df_missing_valcounts[\"messages_per_person\"].sample(n=1500), df_complete_valcounts[\"messages_per_person\"].sample(n=1500), method=\"asymptotic\")\n",
    "print(pnorm)"
   ]
  },
  {
   "cell_type": "code",
   "execution_count": 16,
   "id": "05be4827-aba1-4e34-8234-df16dbaf798a",
   "metadata": {},
   "outputs": [
    {
     "data": {
      "text/plain": [
       "<AxesSubplot: >"
      ]
     },
     "execution_count": 16,
     "metadata": {},
     "output_type": "execute_result"
    },
    {
     "data": {
      "image/png": "[encoded data removed]",
      "text/plain": [
       "<Figure size 640x480 with 1 Axes>"
      ]
     },
     "metadata": {},
     "output_type": "display_data"
    }
   ],
   "source": [
    "df_missing_valcounts[\"messages_per_person\"].hist()"
   ]
  },
  {
   "cell_type": "code",
   "execution_count": 17,
   "id": "8c26fc22-1550-4c32-8ef3-704226ab464e",
   "metadata": {},
   "outputs": [
    {
     "data": {
      "text/plain": [
       "<AxesSubplot: >"
      ]
     },
     "execution_count": 17,
     "metadata": {},
     "output_type": "execute_result"
    },
    {
     "data": {
      "image/png": "[encoded data removed]",
      "text/plain": [
       "<Figure size 640x480 with 1 Axes>"
      ]
     },
     "metadata": {},
     "output_type": "display_data"
    }
   ],
   "source": [
    "df_complete_valcounts[\"messages_per_person\"].hist()"
   ]
  },
  {
   "cell_type": "markdown",
   "id": "f1b45c26-d63e-4a74-a783-5c49ce91c029",
   "metadata": {},
   "source": [
    "## 2. What time of the day should we send our messages in each country?"
   ]
  },
  {
   "cell_type": "code",
   "execution_count": 18,
   "id": "4c2df1fd-fda8-40fa-8a54-751c0223624e",
   "metadata": {},
   "outputs": [
    {
     "data": {
      "text/plain": [
       "message_id                       object\n",
       "customer_id                      object\n",
       "sent_at             datetime64[ns, UTC]\n",
       "clicked                           int64\n",
       "converted                         int64\n",
       "client_id                        object\n",
       "gender                           object\n",
       "customer_country                 object\n",
       "age                             float64\n",
       "created_at                       object\n",
       "client_name                      object\n",
       "product_type                     object\n",
       "client_country                   object\n",
       "channel                          object\n",
       "message_number                  float64\n",
       "dtype: object"
      ]
     },
     "execution_count": 18,
     "metadata": {},
     "output_type": "execute_result"
    }
   ],
   "source": [
    "df_csv['sent_at'] = pd.to_datetime(df_csv['sent_at'], errors='coerce')\n",
    "df_csv.dtypes"
   ]
  },
  {
   "cell_type": "code",
   "execution_count": 19,
   "id": "4f2791c3-ca1a-42b1-8168-4d76be6ef306",
   "metadata": {},
   "outputs": [
    {
     "name": "stdout",
     "output_type": "stream",
     "text": [
      "6086\n",
      "(9374, 15)\n"
     ]
    },
    {
     "data": {
      "text/html": [
       "<div>\n",
       "<style scoped>\n",
       "    .dataframe tbody tr th:only-of-type {\n",
       "        vertical-align: middle;\n",
       "    }\n",
       "\n",
       "    .dataframe tbody tr th {\n",
       "        vertical-align: top;\n",
       "    }\n",
       "\n",
       "    .dataframe thead th {\n",
       "        text-align: right;\n",
       "    }\n",
       "</style>\n",
       "<table border=\"1\" class=\"dataframe\">\n",
       "  <thead>\n",
       "    <tr style=\"text-align: right;\">\n",
       "      <th></th>\n",
       "      <th>message_id</th>\n",
       "      <th>customer_id</th>\n",
       "      <th>sent_at</th>\n",
       "      <th>clicked</th>\n",
       "      <th>converted</th>\n",
       "      <th>client_id</th>\n",
       "      <th>gender</th>\n",
       "      <th>customer_country</th>\n",
       "      <th>age</th>\n",
       "      <th>created_at</th>\n",
       "      <th>client_name</th>\n",
       "      <th>product_type</th>\n",
       "      <th>client_country</th>\n",
       "      <th>channel</th>\n",
       "      <th>message_number</th>\n",
       "    </tr>\n",
       "  </thead>\n",
       "  <tbody>\n",
       "    <tr>\n",
       "      <th>0</th>\n",
       "      <td>b362af6f8c490377462744f70a524665</td>\n",
       "      <td>26c5f8755c296b92685959c57114ba75</td>\n",
       "      <td>2021-04-28 11:50:25.127000+00:00</td>\n",
       "      <td>1</td>\n",
       "      <td>0</td>\n",
       "      <td>cfcd208495d565ef66e7dff9f98764da</td>\n",
       "      <td>F</td>\n",
       "      <td>NZ</td>\n",
       "      <td>28.0</td>\n",
       "      <td>2021-01-03 16:55:05.127000+00:00</td>\n",
       "      <td>SwanPay</td>\n",
       "      <td>BNPL</td>\n",
       "      <td>UK</td>\n",
       "      <td>Email</td>\n",
       "      <td>17.0</td>\n",
       "    </tr>\n",
       "    <tr>\n",
       "      <th>1</th>\n",
       "      <td>97863b5325e02095b46eede5430df32f</td>\n",
       "      <td>26c5f8755c296b92685959c57114ba75</td>\n",
       "      <td>2021-06-17 10:25:45.127000+00:00</td>\n",
       "      <td>1</td>\n",
       "      <td>0</td>\n",
       "      <td>cfcd208495d565ef66e7dff9f98764da</td>\n",
       "      <td>F</td>\n",
       "      <td>NZ</td>\n",
       "      <td>28.0</td>\n",
       "      <td>2021-01-03 16:55:05.127000+00:00</td>\n",
       "      <td>SwanPay</td>\n",
       "      <td>BNPL</td>\n",
       "      <td>UK</td>\n",
       "      <td>Email</td>\n",
       "      <td>24.0</td>\n",
       "    </tr>\n",
       "    <tr>\n",
       "      <th>2</th>\n",
       "      <td>3aa8304b816ebf485ee3068e47e62ff3</td>\n",
       "      <td>26c5f8755c296b92685959c57114ba75</td>\n",
       "      <td>2021-09-03 09:52:09.127000+00:00</td>\n",
       "      <td>1</td>\n",
       "      <td>0</td>\n",
       "      <td>cfcd208495d565ef66e7dff9f98764da</td>\n",
       "      <td>F</td>\n",
       "      <td>NZ</td>\n",
       "      <td>28.0</td>\n",
       "      <td>2021-01-03 16:55:05.127000+00:00</td>\n",
       "      <td>SwanPay</td>\n",
       "      <td>BNPL</td>\n",
       "      <td>UK</td>\n",
       "      <td>Email</td>\n",
       "      <td>35.0</td>\n",
       "    </tr>\n",
       "    <tr>\n",
       "      <th>3</th>\n",
       "      <td>40684a56c92c67e11c2800e2e423e9c3</td>\n",
       "      <td>06e72df8cce37d99724e98a89ff031e0</td>\n",
       "      <td>2021-01-13 15:48:51.167000+00:00</td>\n",
       "      <td>1</td>\n",
       "      <td>0</td>\n",
       "      <td>cfcd208495d565ef66e7dff9f98764da</td>\n",
       "      <td>F</td>\n",
       "      <td>UK</td>\n",
       "      <td>24.0</td>\n",
       "      <td>2021-01-03 18:20:36.167000+00:00</td>\n",
       "      <td>SwanPay</td>\n",
       "      <td>BNPL</td>\n",
       "      <td>UK</td>\n",
       "      <td>Email</td>\n",
       "      <td>2.0</td>\n",
       "    </tr>\n",
       "    <tr>\n",
       "      <th>4</th>\n",
       "      <td>e4f91bd680bb8c2ff2489a016527465c</td>\n",
       "      <td>06e72df8cce37d99724e98a89ff031e0</td>\n",
       "      <td>2021-01-19 09:04:59.167000+00:00</td>\n",
       "      <td>1</td>\n",
       "      <td>1</td>\n",
       "      <td>cfcd208495d565ef66e7dff9f98764da</td>\n",
       "      <td>F</td>\n",
       "      <td>UK</td>\n",
       "      <td>24.0</td>\n",
       "      <td>2021-01-03 18:20:36.167000+00:00</td>\n",
       "      <td>SwanPay</td>\n",
       "      <td>BNPL</td>\n",
       "      <td>UK</td>\n",
       "      <td>Email</td>\n",
       "      <td>3.0</td>\n",
       "    </tr>\n",
       "  </tbody>\n",
       "</table>\n",
       "</div>"
      ],
      "text/plain": [
       "                         message_id                       customer_id  \\\n",
       "0  b362af6f8c490377462744f70a524665  26c5f8755c296b92685959c57114ba75   \n",
       "1  97863b5325e02095b46eede5430df32f  26c5f8755c296b92685959c57114ba75   \n",
       "2  3aa8304b816ebf485ee3068e47e62ff3  26c5f8755c296b92685959c57114ba75   \n",
       "3  40684a56c92c67e11c2800e2e423e9c3  06e72df8cce37d99724e98a89ff031e0   \n",
       "4  e4f91bd680bb8c2ff2489a016527465c  06e72df8cce37d99724e98a89ff031e0   \n",
       "\n",
       "                           sent_at  clicked  converted  \\\n",
       "0 2021-04-28 11:50:25.127000+00:00        1          0   \n",
       "1 2021-06-17 10:25:45.127000+00:00        1          0   \n",
       "2 2021-09-03 09:52:09.127000+00:00        1          0   \n",
       "3 2021-01-13 15:48:51.167000+00:00        1          0   \n",
       "4 2021-01-19 09:04:59.167000+00:00        1          1   \n",
       "\n",
       "                          client_id gender customer_country   age  \\\n",
       "0  cfcd208495d565ef66e7dff9f98764da      F               NZ  28.0   \n",
       "1  cfcd208495d565ef66e7dff9f98764da      F               NZ  28.0   \n",
       "2  cfcd208495d565ef66e7dff9f98764da      F               NZ  28.0   \n",
       "3  cfcd208495d565ef66e7dff9f98764da      F               UK  24.0   \n",
       "4  cfcd208495d565ef66e7dff9f98764da      F               UK  24.0   \n",
       "\n",
       "                         created_at client_name product_type client_country  \\\n",
       "0  2021-01-03 16:55:05.127000+00:00     SwanPay         BNPL             UK   \n",
       "1  2021-01-03 16:55:05.127000+00:00     SwanPay         BNPL             UK   \n",
       "2  2021-01-03 16:55:05.127000+00:00     SwanPay         BNPL             UK   \n",
       "3  2021-01-03 18:20:36.167000+00:00     SwanPay         BNPL             UK   \n",
       "4  2021-01-03 18:20:36.167000+00:00     SwanPay         BNPL             UK   \n",
       "\n",
       "  channel  message_number  \n",
       "0   Email            17.0  \n",
       "1   Email            24.0  \n",
       "2   Email            35.0  \n",
       "3   Email             2.0  \n",
       "4   Email             3.0  "
      ]
     },
     "execution_count": 19,
     "metadata": {},
     "output_type": "execute_result"
    }
   ],
   "source": [
    "# df containing rows which the message was clicked OR replied to\n",
    "df_clicked_converted = df_csv.loc[(df_csv['clicked'] == 1) | (df_csv['converted'] == 1 )].copy()\n",
    "df_clicked_converted.reset_index(inplace=True, drop=True)\n",
    "\n",
    "print(df_clicked_converted[\"customer_id\"].nunique())\n",
    "print(df_clicked_converted.shape)\n",
    "df_clicked_converted.head()"
   ]
  },
  {
   "cell_type": "code",
   "execution_count": 20,
   "id": "9598221d-350c-43a8-8a6d-ff97fbaad88b",
   "metadata": {},
   "outputs": [
    {
     "name": "stdout",
     "output_type": "stream",
     "text": [
      "3142\n",
      "(3142, 15)\n"
     ]
    },
    {
     "data": {
      "text/html": [
       "<div>\n",
       "<style scoped>\n",
       "    .dataframe tbody tr th:only-of-type {\n",
       "        vertical-align: middle;\n",
       "    }\n",
       "\n",
       "    .dataframe tbody tr th {\n",
       "        vertical-align: top;\n",
       "    }\n",
       "\n",
       "    .dataframe thead th {\n",
       "        text-align: right;\n",
       "    }\n",
       "</style>\n",
       "<table border=\"1\" class=\"dataframe\">\n",
       "  <thead>\n",
       "    <tr style=\"text-align: right;\">\n",
       "      <th></th>\n",
       "      <th>message_id</th>\n",
       "      <th>customer_id</th>\n",
       "      <th>sent_at</th>\n",
       "      <th>clicked</th>\n",
       "      <th>converted</th>\n",
       "      <th>client_id</th>\n",
       "      <th>gender</th>\n",
       "      <th>customer_country</th>\n",
       "      <th>age</th>\n",
       "      <th>created_at</th>\n",
       "      <th>client_name</th>\n",
       "      <th>product_type</th>\n",
       "      <th>client_country</th>\n",
       "      <th>channel</th>\n",
       "      <th>message_number</th>\n",
       "    </tr>\n",
       "  </thead>\n",
       "  <tbody>\n",
       "    <tr>\n",
       "      <th>0</th>\n",
       "      <td>e4f91bd680bb8c2ff2489a016527465c</td>\n",
       "      <td>06e72df8cce37d99724e98a89ff031e0</td>\n",
       "      <td>2021-01-19 09:04:59.167000+00:00</td>\n",
       "      <td>1</td>\n",
       "      <td>1</td>\n",
       "      <td>cfcd208495d565ef66e7dff9f98764da</td>\n",
       "      <td>F</td>\n",
       "      <td>UK</td>\n",
       "      <td>24.0</td>\n",
       "      <td>2021-01-03 18:20:36.167000+00:00</td>\n",
       "      <td>SwanPay</td>\n",
       "      <td>BNPL</td>\n",
       "      <td>UK</td>\n",
       "      <td>Email</td>\n",
       "      <td>3.0</td>\n",
       "    </tr>\n",
       "    <tr>\n",
       "      <th>1</th>\n",
       "      <td>177d6b78abf38591b5352177e2e4cbbb</td>\n",
       "      <td>6c106790e67f6988b943e6971cbe1d04</td>\n",
       "      <td>2021-07-08 15:45:25.423000+00:00</td>\n",
       "      <td>1</td>\n",
       "      <td>1</td>\n",
       "      <td>cfcd208495d565ef66e7dff9f98764da</td>\n",
       "      <td>F</td>\n",
       "      <td>NaN</td>\n",
       "      <td>29.0</td>\n",
       "      <td>2021-01-01 08:52:53.423000+00:00</td>\n",
       "      <td>SwanPay</td>\n",
       "      <td>BNPL</td>\n",
       "      <td>UK</td>\n",
       "      <td>SMS</td>\n",
       "      <td>27.0</td>\n",
       "    </tr>\n",
       "    <tr>\n",
       "      <th>2</th>\n",
       "      <td>798cfc63f3a821ff919bb74cc42240ac</td>\n",
       "      <td>15c286543a1dbf6ab2c855747f751cb7</td>\n",
       "      <td>2021-09-15 12:17:59.064000+00:00</td>\n",
       "      <td>1</td>\n",
       "      <td>1</td>\n",
       "      <td>cfcd208495d565ef66e7dff9f98764da</td>\n",
       "      <td>NaN</td>\n",
       "      <td>NaN</td>\n",
       "      <td>27.0</td>\n",
       "      <td>2021-01-01 01:49:55.064000+00:00</td>\n",
       "      <td>SwanPay</td>\n",
       "      <td>BNPL</td>\n",
       "      <td>UK</td>\n",
       "      <td>Email</td>\n",
       "      <td>36.0</td>\n",
       "    </tr>\n",
       "    <tr>\n",
       "      <th>3</th>\n",
       "      <td>82fd83a85b4154c2de4c01459d8b8123</td>\n",
       "      <td>ab93a807d958811fdcf7e1f8fc39bd2a</td>\n",
       "      <td>2021-02-26 10:06:20.605000+00:00</td>\n",
       "      <td>1</td>\n",
       "      <td>1</td>\n",
       "      <td>cfcd208495d565ef66e7dff9f98764da</td>\n",
       "      <td>F</td>\n",
       "      <td>UK</td>\n",
       "      <td>NaN</td>\n",
       "      <td>2021-01-03 21:58:36.605000+00:00</td>\n",
       "      <td>SwanPay</td>\n",
       "      <td>BNPL</td>\n",
       "      <td>UK</td>\n",
       "      <td>Email</td>\n",
       "      <td>8.0</td>\n",
       "    </tr>\n",
       "    <tr>\n",
       "      <th>4</th>\n",
       "      <td>9238b01b87d0121a97d36dda6b7507a0</td>\n",
       "      <td>abd9d49a461b10861017f60f1b4770d9</td>\n",
       "      <td>2021-05-31 17:23:34.681000+00:00</td>\n",
       "      <td>1</td>\n",
       "      <td>1</td>\n",
       "      <td>cfcd208495d565ef66e7dff9f98764da</td>\n",
       "      <td>F</td>\n",
       "      <td>UK</td>\n",
       "      <td>19.0</td>\n",
       "      <td>2021-01-03 00:00:36.681000+00:00</td>\n",
       "      <td>SwanPay</td>\n",
       "      <td>BNPL</td>\n",
       "      <td>UK</td>\n",
       "      <td>Email</td>\n",
       "      <td>22.0</td>\n",
       "    </tr>\n",
       "  </tbody>\n",
       "</table>\n",
       "</div>"
      ],
      "text/plain": [
       "                         message_id                       customer_id  \\\n",
       "0  e4f91bd680bb8c2ff2489a016527465c  06e72df8cce37d99724e98a89ff031e0   \n",
       "1  177d6b78abf38591b5352177e2e4cbbb  6c106790e67f6988b943e6971cbe1d04   \n",
       "2  798cfc63f3a821ff919bb74cc42240ac  15c286543a1dbf6ab2c855747f751cb7   \n",
       "3  82fd83a85b4154c2de4c01459d8b8123  ab93a807d958811fdcf7e1f8fc39bd2a   \n",
       "4  9238b01b87d0121a97d36dda6b7507a0  abd9d49a461b10861017f60f1b4770d9   \n",
       "\n",
       "                           sent_at  clicked  converted  \\\n",
       "0 2021-01-19 09:04:59.167000+00:00        1          1   \n",
       "1 2021-07-08 15:45:25.423000+00:00        1          1   \n",
       "2 2021-09-15 12:17:59.064000+00:00        1          1   \n",
       "3 2021-02-26 10:06:20.605000+00:00        1          1   \n",
       "4 2021-05-31 17:23:34.681000+00:00        1          1   \n",
       "\n",
       "                          client_id gender customer_country   age  \\\n",
       "0  cfcd208495d565ef66e7dff9f98764da      F               UK  24.0   \n",
       "1  cfcd208495d565ef66e7dff9f98764da      F              NaN  29.0   \n",
       "2  cfcd208495d565ef66e7dff9f98764da    NaN              NaN  27.0   \n",
       "3  cfcd208495d565ef66e7dff9f98764da      F               UK   NaN   \n",
       "4  cfcd208495d565ef66e7dff9f98764da      F               UK  19.0   \n",
       "\n",
       "                         created_at client_name product_type client_country  \\\n",
       "0  2021-01-03 18:20:36.167000+00:00     SwanPay         BNPL             UK   \n",
       "1  2021-01-01 08:52:53.423000+00:00     SwanPay         BNPL             UK   \n",
       "2  2021-01-01 01:49:55.064000+00:00     SwanPay         BNPL             UK   \n",
       "3  2021-01-03 21:58:36.605000+00:00     SwanPay         BNPL             UK   \n",
       "4  2021-01-03 00:00:36.681000+00:00     SwanPay         BNPL             UK   \n",
       "\n",
       "  channel  message_number  \n",
       "0   Email             3.0  \n",
       "1     SMS            27.0  \n",
       "2   Email            36.0  \n",
       "3   Email             8.0  \n",
       "4   Email            22.0  "
      ]
     },
     "execution_count": 20,
     "metadata": {},
     "output_type": "execute_result"
    }
   ],
   "source": [
    "# df containing rows which the message was replied to\n",
    "df_converted = df_csv.loc[(df_csv['converted'] == 1 )].copy()\n",
    "df_converted.reset_index(inplace=True, drop=True)\n",
    "\n",
    "print(df_converted[\"customer_id\"].nunique())\n",
    "print(df_converted.shape)\n",
    "df_converted.head()"
   ]
  },
  {
   "cell_type": "markdown",
   "id": "c20cd387-d29f-4878-945b-60c1a37248cc",
   "metadata": {},
   "source": [
    "Interesting to see that **3142 / 9751 (32.22%) customers eventually respond** but **only 9374 / 145941 (6.42%) of messages are either clicked or responded to**. It seems that **out of the users that do engage with the comapany (click OR respond), only 3142 / 6086 (51.53%) lead to a conversation**, which I assume is the \"success\" factor since there have been rows with the same user clicking and not responding but that leads to more messages sent to them until they either do respond or a message threshold (35+) is reached."
   ]
  },
  {
   "cell_type": "code",
   "execution_count": 21,
   "id": "604ccd23-18f3-4e2e-9af2-d6b5d80e521f",
   "metadata": {},
   "outputs": [
    {
     "data": {
      "text/plain": [
       "message_id                       object\n",
       "customer_id                      object\n",
       "sent_at             datetime64[ns, UTC]\n",
       "clicked                           int64\n",
       "converted                         int64\n",
       "client_id                        object\n",
       "gender                           object\n",
       "customer_country                 object\n",
       "age                             float64\n",
       "created_at                       object\n",
       "client_name                      object\n",
       "product_type                     object\n",
       "client_country                   object\n",
       "channel                          object\n",
       "message_number                  float64\n",
       "dtype: object"
      ]
     },
     "execution_count": 21,
     "metadata": {},
     "output_type": "execute_result"
    }
   ],
   "source": [
    "df_converted.isna().sum()\n",
    "df_converted.dtypes"
   ]
  },
  {
   "cell_type": "code",
   "execution_count": 22,
   "id": "dd39d50a-ddf9-46d0-9f16-b7a2d6cf9572",
   "metadata": {},
   "outputs": [
    {
     "data": {
      "text/plain": [
       "3    748\n",
       "1    716\n",
       "2    679\n",
       "4    676\n",
       "0    323\n",
       "Name: day_of_week_sent, dtype: int64"
      ]
     },
     "execution_count": 22,
     "metadata": {},
     "output_type": "execute_result"
    }
   ],
   "source": [
    "# Monday = 0 Sunday = 6\n",
    "df_converted[\"day_of_week_sent\"] = df_converted[\"sent_at\"].dt.weekday.copy()\n",
    "df_converted[\"day_of_week_sent\"].value_counts()"
   ]
  },
  {
   "cell_type": "code",
   "execution_count": 23,
   "id": "13e268c7-c9af-495c-beef-0403ee44afac",
   "metadata": {},
   "outputs": [
    {
     "data": {
      "text/plain": [
       "<AxesSubplot: xlabel='day_of_week_sent', ylabel='converted'>"
      ]
     },
     "execution_count": 23,
     "metadata": {},
     "output_type": "execute_result"
    },
    {
     "data": {
      "image/png": "[encoded data removed]",
      "text/plain": [
       "<Figure size 640x480 with 1 Axes>"
      ]
     },
     "metadata": {},
     "output_type": "display_data"
    }
   ],
   "source": [
    "df_dayofweek_aggregate = df_converted.groupby(by=[\"day_of_week_sent\"]).sum(numeric_only=True)\n",
    "df_dayofweek_aggregate.reset_index(inplace=True, drop=False)\n",
    "sns.barplot(data=df_dayofweek_aggregate, x='day_of_week_sent', y='converted')"
   ]
  },
  {
   "cell_type": "code",
   "execution_count": 24,
   "id": "f48d3df7-d9b9-4106-bd86-323258c9f067",
   "metadata": {},
   "outputs": [
    {
     "data": {
      "text/plain": [
       "10    679\n",
       "9     642\n",
       "11    589\n",
       "8     193\n",
       "14    154\n",
       "16    152\n",
       "15    142\n",
       "12    140\n",
       "13    124\n",
       "18    113\n",
       "17    110\n",
       "19    104\n",
       "Name: hour_sent, dtype: int64"
      ]
     },
     "execution_count": 24,
     "metadata": {},
     "output_type": "execute_result"
    }
   ],
   "source": [
    "df_converted[\"hour_sent\"] = df_converted[\"sent_at\"].dt.hour.copy()\n",
    "df_converted[\"hour_sent\"].value_counts()"
   ]
  },
  {
   "cell_type": "code",
   "execution_count": 25,
   "id": "e237b733-a85d-4dd1-9103-f58c96300776",
   "metadata": {},
   "outputs": [
    {
     "data": {
      "text/plain": [
       "<AxesSubplot: xlabel='hour_sent', ylabel='converted'>"
      ]
     },
     "execution_count": 25,
     "metadata": {},
     "output_type": "execute_result"
    },
    {
     "data": {
      "image/png": "[encoded data removed]",
      "text/plain": [
       "<Figure size 640x480 with 1 Axes>"
      ]
     },
     "metadata": {},
     "output_type": "display_data"
    }
   ],
   "source": [
    "df_hour_aggregate = df_converted.groupby(by=[\"hour_sent\"]).sum(numeric_only=True)\n",
    "df_hour_aggregate.reset_index(inplace=True, drop=False)\n",
    "sns.barplot(data=df_hour_aggregate, x='hour_sent', y='converted')"
   ]
  },
  {
   "cell_type": "markdown",
   "id": "844c6252-c0ed-4444-a564-ac1a47a74666",
   "metadata": {},
   "source": [
    "### Looking into separating the replied messages via hour and country"
   ]
  },
  {
   "cell_type": "code",
   "execution_count": 139,
   "id": "55d16c8b-e210-44ca-a6ce-b2bdb297693f",
   "metadata": {},
   "outputs": [],
   "source": [
    "def conversions_location_aggregate(dataframe, country, column_name):\n",
    "    \"\"\"\n",
    "    dataframe = source dataframe\n",
    "    column_name = categorical column where we'll aggregate it by each country (CA, NZ, UK)\n",
    "    \n",
    "    - this function uses the dataframe with only the rows of people with converted == 1 or those who responded \n",
    "    - a holder dataframe is used to get the rows with the indicated country and groupby the given column, giving the sum of values\n",
    "    - it is then plotted out\n",
    "    \n",
    "    \"\"\"\n",
    "    \n",
    "    df_country_filtered = dataframe.loc[(dataframe['customer_country'] == country)].copy()\n",
    "    df_country_filtered_hour_aggregate = df_country_filtered.groupby(by=[column_name]).sum(numeric_only=True)\n",
    "    df_country_filtered_hour_aggregate.reset_index(inplace=True, drop=False)\n",
    "    \n",
    "    plot = sns.barplot(data=df_country_filtered_hour_aggregate, x=column_name, y='converted')\n",
    "    plot.set_title(f'{column_name} response counts for people in {country}', fontsize=14, fontweight=\"bold\", y=1.01)"
   ]
  },
  {
   "cell_type": "code",
   "execution_count": 140,
   "id": "5ccfad8b-dfcb-49f9-97da-a13130a34a1a",
   "metadata": {},
   "outputs": [
    {
     "data": {
      "text/plain": [
       "CA    1336\n",
       "UK     990\n",
       "NZ     321\n",
       "Name: customer_country, dtype: int64"
      ]
     },
     "execution_count": 140,
     "metadata": {},
     "output_type": "execute_result"
    }
   ],
   "source": [
    "df_converted[\"customer_country\"].value_counts()"
   ]
  },
  {
   "cell_type": "code",
   "execution_count": 141,
   "id": "4c262981-010d-46c5-aac4-d461c83b157a",
   "metadata": {},
   "outputs": [
    {
     "data": {
      "image/png": "[encoded data removed]",
      "text/plain": [
       "<Figure size 640x480 with 1 Axes>"
      ]
     },
     "metadata": {},
     "output_type": "display_data"
    }
   ],
   "source": [
    "conversions_location_aggregate(df_converted, \"CA\", \"hour_sent\")"
   ]
  },
  {
   "cell_type": "code",
   "execution_count": 142,
   "id": "99f6298e-f44e-4166-92a7-4d1099f97aca",
   "metadata": {},
   "outputs": [
    {
     "data": {
      "image/png": "[encoded data removed]",
      "text/plain": [
       "<Figure size 640x480 with 1 Axes>"
      ]
     },
     "metadata": {},
     "output_type": "display_data"
    }
   ],
   "source": [
    "conversions_location_aggregate(df_converted, \"UK\", \"hour_sent\")"
   ]
  },
  {
   "cell_type": "code",
   "execution_count": 143,
   "id": "5f23e82a-6dfa-425c-93c5-08578fc25554",
   "metadata": {},
   "outputs": [
    {
     "data": {
      "image/png": "[encoded data removed]",
      "text/plain": [
       "<Figure size 640x480 with 1 Axes>"
      ]
     },
     "metadata": {},
     "output_type": "display_data"
    }
   ],
   "source": [
    "conversions_location_aggregate(df_converted, \"NZ\", \"hour_sent\")"
   ]
  },
  {
   "cell_type": "markdown",
   "id": "47225190-1bab-48b1-9cad-e9846dea9105",
   "metadata": {},
   "source": [
    "## 3. What should be the preferred channel to use when communicating with customers?"
   ]
  },
  {
   "cell_type": "code",
   "execution_count": 31,
   "id": "0f7aba14-d0c3-4870-ae82-b3d0fba4c61a",
   "metadata": {},
   "outputs": [
    {
     "data": {
      "text/html": [
       "<div>\n",
       "<style scoped>\n",
       "    .dataframe tbody tr th:only-of-type {\n",
       "        vertical-align: middle;\n",
       "    }\n",
       "\n",
       "    .dataframe tbody tr th {\n",
       "        vertical-align: top;\n",
       "    }\n",
       "\n",
       "    .dataframe thead th {\n",
       "        text-align: right;\n",
       "    }\n",
       "</style>\n",
       "<table border=\"1\" class=\"dataframe\">\n",
       "  <thead>\n",
       "    <tr style=\"text-align: right;\">\n",
       "      <th></th>\n",
       "      <th>channel</th>\n",
       "      <th>clicked</th>\n",
       "      <th>converted</th>\n",
       "      <th>age</th>\n",
       "      <th>message_number</th>\n",
       "      <th>day_of_week_sent</th>\n",
       "      <th>hour_sent</th>\n",
       "    </tr>\n",
       "  </thead>\n",
       "  <tbody>\n",
       "    <tr>\n",
       "      <th>0</th>\n",
       "      <td>Email</td>\n",
       "      <td>1916</td>\n",
       "      <td>1916</td>\n",
       "      <td>58391.0</td>\n",
       "      <td>19686.0</td>\n",
       "      <td>4231</td>\n",
       "      <td>22255</td>\n",
       "    </tr>\n",
       "    <tr>\n",
       "      <th>1</th>\n",
       "      <td>SMS</td>\n",
       "      <td>1226</td>\n",
       "      <td>1226</td>\n",
       "      <td>37695.0</td>\n",
       "      <td>12877.0</td>\n",
       "      <td>2791</td>\n",
       "      <td>14226</td>\n",
       "    </tr>\n",
       "  </tbody>\n",
       "</table>\n",
       "</div>"
      ],
      "text/plain": [
       "  channel  clicked  converted      age  message_number  day_of_week_sent  \\\n",
       "0   Email     1916       1916  58391.0         19686.0              4231   \n",
       "1     SMS     1226       1226  37695.0         12877.0              2791   \n",
       "\n",
       "   hour_sent  \n",
       "0      22255  \n",
       "1      14226  "
      ]
     },
     "execution_count": 31,
     "metadata": {},
     "output_type": "execute_result"
    }
   ],
   "source": [
    "df_channel_aggregate = df_converted.groupby(by=[\"channel\"]).sum(numeric_only=True)\n",
    "df_channel_aggregate.reset_index(inplace=True, drop=False)\n",
    "df_channel_aggregate\n",
    "#sns.barplot(data=df_dayofweek_aggregate, x='day_of_week_sent', y='converted')"
   ]
  },
  {
   "cell_type": "code",
   "execution_count": 144,
   "id": "6a65711a-b885-43bb-b1e8-a847024da787",
   "metadata": {},
   "outputs": [
    {
     "data": {
      "image/png": "[encoded data removed]",
      "text/plain": [
       "<Figure size 640x480 with 1 Axes>"
      ]
     },
     "metadata": {},
     "output_type": "display_data"
    }
   ],
   "source": [
    "conversions_location_aggregate(df_converted, \"CA\", \"channel\")"
   ]
  },
  {
   "cell_type": "code",
   "execution_count": 145,
   "id": "a2831f14-4e03-4952-a843-ec578fc4ca6f",
   "metadata": {},
   "outputs": [
    {
     "data": {
      "image/png": "[encoded data removed]",
      "text/plain": [
       "<Figure size 640x480 with 1 Axes>"
      ]
     },
     "metadata": {},
     "output_type": "display_data"
    }
   ],
   "source": [
    "conversions_location_aggregate(df_converted, \"UK\", \"channel\")"
   ]
  },
  {
   "cell_type": "code",
   "execution_count": 146,
   "id": "28489e46-cae1-4566-9a04-4af91861b745",
   "metadata": {},
   "outputs": [
    {
     "data": {
      "image/png": "[encoded data removed]",
      "text/plain": [
       "<Figure size 640x480 with 1 Axes>"
      ]
     },
     "metadata": {},
     "output_type": "display_data"
    }
   ],
   "source": [
    "conversions_location_aggregate(df_converted, \"NZ\", \"channel\")"
   ]
  },
  {
   "cell_type": "markdown",
   "id": "741df500-550b-495a-8dad-8ec4f1cbea67",
   "metadata": {},
   "source": [
    "## 5. What is the communications performance over time? What could be causing this behaviour?"
   ]
  },
  {
   "cell_type": "code",
   "execution_count": 35,
   "id": "800d2b27-0816-4aef-828d-4d548284882c",
   "metadata": {},
   "outputs": [
    {
     "name": "stdout",
     "output_type": "stream",
     "text": [
      "2021-01-04 10:03:16.376000+00:00\n",
      "2021-10-01 19:58:46.086000+00:00\n"
     ]
    }
   ],
   "source": [
    "print(df_csv[\"sent_at\"].min())\n",
    "print(df_csv[\"sent_at\"].max())"
   ]
  },
  {
   "cell_type": "code",
   "execution_count": 36,
   "id": "668d2915-c05b-4610-bb82-d74559d0b7bf",
   "metadata": {},
   "outputs": [
    {
     "data": {
      "text/html": [
       "<div>\n",
       "<style scoped>\n",
       "    .dataframe tbody tr th:only-of-type {\n",
       "        vertical-align: middle;\n",
       "    }\n",
       "\n",
       "    .dataframe tbody tr th {\n",
       "        vertical-align: top;\n",
       "    }\n",
       "\n",
       "    .dataframe thead th {\n",
       "        text-align: right;\n",
       "    }\n",
       "</style>\n",
       "<table border=\"1\" class=\"dataframe\">\n",
       "  <thead>\n",
       "    <tr style=\"text-align: right;\">\n",
       "      <th></th>\n",
       "      <th>customer_id</th>\n",
       "      <th>sent_at</th>\n",
       "      <th>clicked</th>\n",
       "      <th>converted</th>\n",
       "      <th>customer_country</th>\n",
       "      <th>message_number</th>\n",
       "    </tr>\n",
       "  </thead>\n",
       "  <tbody>\n",
       "    <tr>\n",
       "      <th>0</th>\n",
       "      <td>f13e966f9dc1e2aa7bffec6c9efa8e11</td>\n",
       "      <td>2021-01-04 10:03:16.376000+00:00</td>\n",
       "      <td>0</td>\n",
       "      <td>0</td>\n",
       "      <td>NaN</td>\n",
       "      <td>1.0</td>\n",
       "    </tr>\n",
       "    <tr>\n",
       "      <th>1</th>\n",
       "      <td>f13e966f9dc1e2aa7bffec6c9efa8e11</td>\n",
       "      <td>2021-01-12 08:34:09.376000+00:00</td>\n",
       "      <td>0</td>\n",
       "      <td>0</td>\n",
       "      <td>NaN</td>\n",
       "      <td>2.0</td>\n",
       "    </tr>\n",
       "    <tr>\n",
       "      <th>2</th>\n",
       "      <td>f13e966f9dc1e2aa7bffec6c9efa8e11</td>\n",
       "      <td>2021-01-19 08:58:11.376000+00:00</td>\n",
       "      <td>0</td>\n",
       "      <td>0</td>\n",
       "      <td>NaN</td>\n",
       "      <td>3.0</td>\n",
       "    </tr>\n",
       "    <tr>\n",
       "      <th>3</th>\n",
       "      <td>f13e966f9dc1e2aa7bffec6c9efa8e11</td>\n",
       "      <td>2021-01-28 10:43:04.376000+00:00</td>\n",
       "      <td>0</td>\n",
       "      <td>0</td>\n",
       "      <td>NaN</td>\n",
       "      <td>4.0</td>\n",
       "    </tr>\n",
       "    <tr>\n",
       "      <th>4</th>\n",
       "      <td>f13e966f9dc1e2aa7bffec6c9efa8e11</td>\n",
       "      <td>2021-02-04 11:28:56.376000+00:00</td>\n",
       "      <td>0</td>\n",
       "      <td>0</td>\n",
       "      <td>NaN</td>\n",
       "      <td>5.0</td>\n",
       "    </tr>\n",
       "  </tbody>\n",
       "</table>\n",
       "</div>"
      ],
      "text/plain": [
       "                        customer_id                          sent_at  clicked  \\\n",
       "0  f13e966f9dc1e2aa7bffec6c9efa8e11 2021-01-04 10:03:16.376000+00:00        0   \n",
       "1  f13e966f9dc1e2aa7bffec6c9efa8e11 2021-01-12 08:34:09.376000+00:00        0   \n",
       "2  f13e966f9dc1e2aa7bffec6c9efa8e11 2021-01-19 08:58:11.376000+00:00        0   \n",
       "3  f13e966f9dc1e2aa7bffec6c9efa8e11 2021-01-28 10:43:04.376000+00:00        0   \n",
       "4  f13e966f9dc1e2aa7bffec6c9efa8e11 2021-02-04 11:28:56.376000+00:00        0   \n",
       "\n",
       "   converted customer_country  message_number  \n",
       "0          0              NaN             1.0  \n",
       "1          0              NaN             2.0  \n",
       "2          0              NaN             3.0  \n",
       "3          0              NaN             4.0  \n",
       "4          0              NaN             5.0  "
      ]
     },
     "execution_count": 36,
     "metadata": {},
     "output_type": "execute_result"
    }
   ],
   "source": [
    "df_timeslice = df_csv.filter(['customer_id','sent_at','clicked', 'converted', 'customer_country', 'message_number'], axis=1)\n",
    "df_timeslice.head()"
   ]
  },
  {
   "cell_type": "markdown",
   "id": "00a70edf-73e4-4cf2-836b-2ffb62f12e21",
   "metadata": {},
   "source": [
    "Will look into how many days on average is spent messaging a person then will try to see if the average per yearly quarter shortens or remainds consistent. Might separate this by ones that respond and ones that don't"
   ]
  },
  {
   "cell_type": "code",
   "execution_count": 37,
   "id": "bf21781e-d45d-4837-9024-77a238efb28d",
   "metadata": {},
   "outputs": [
    {
     "data": {
      "text/html": [
       "<div>\n",
       "<style scoped>\n",
       "    .dataframe tbody tr th:only-of-type {\n",
       "        vertical-align: middle;\n",
       "    }\n",
       "\n",
       "    .dataframe tbody tr th {\n",
       "        vertical-align: top;\n",
       "    }\n",
       "\n",
       "    .dataframe thead th {\n",
       "        text-align: right;\n",
       "    }\n",
       "</style>\n",
       "<table border=\"1\" class=\"dataframe\">\n",
       "  <thead>\n",
       "    <tr style=\"text-align: right;\">\n",
       "      <th></th>\n",
       "      <th>customer_id</th>\n",
       "      <th>sent_at</th>\n",
       "      <th>clicked</th>\n",
       "      <th>converted</th>\n",
       "      <th>customer_country</th>\n",
       "      <th>message_number</th>\n",
       "      <th>message_day_intervals</th>\n",
       "    </tr>\n",
       "  </thead>\n",
       "  <tbody>\n",
       "    <tr>\n",
       "      <th>0</th>\n",
       "      <td>f13e966f9dc1e2aa7bffec6c9efa8e11</td>\n",
       "      <td>2021-01-04 10:03:16.376000+00:00</td>\n",
       "      <td>0</td>\n",
       "      <td>0</td>\n",
       "      <td>NaN</td>\n",
       "      <td>1.0</td>\n",
       "      <td>0.000000</td>\n",
       "    </tr>\n",
       "    <tr>\n",
       "      <th>1</th>\n",
       "      <td>f13e966f9dc1e2aa7bffec6c9efa8e11</td>\n",
       "      <td>2021-01-12 08:34:09.376000+00:00</td>\n",
       "      <td>0</td>\n",
       "      <td>0</td>\n",
       "      <td>NaN</td>\n",
       "      <td>2.0</td>\n",
       "      <td>7.938113</td>\n",
       "    </tr>\n",
       "    <tr>\n",
       "      <th>2</th>\n",
       "      <td>f13e966f9dc1e2aa7bffec6c9efa8e11</td>\n",
       "      <td>2021-01-19 08:58:11.376000+00:00</td>\n",
       "      <td>0</td>\n",
       "      <td>0</td>\n",
       "      <td>NaN</td>\n",
       "      <td>3.0</td>\n",
       "      <td>7.016690</td>\n",
       "    </tr>\n",
       "    <tr>\n",
       "      <th>3</th>\n",
       "      <td>f13e966f9dc1e2aa7bffec6c9efa8e11</td>\n",
       "      <td>2021-01-28 10:43:04.376000+00:00</td>\n",
       "      <td>0</td>\n",
       "      <td>0</td>\n",
       "      <td>NaN</td>\n",
       "      <td>4.0</td>\n",
       "      <td>9.072836</td>\n",
       "    </tr>\n",
       "    <tr>\n",
       "      <th>4</th>\n",
       "      <td>f13e966f9dc1e2aa7bffec6c9efa8e11</td>\n",
       "      <td>2021-02-04 11:28:56.376000+00:00</td>\n",
       "      <td>0</td>\n",
       "      <td>0</td>\n",
       "      <td>NaN</td>\n",
       "      <td>5.0</td>\n",
       "      <td>7.031852</td>\n",
       "    </tr>\n",
       "  </tbody>\n",
       "</table>\n",
       "</div>"
      ],
      "text/plain": [
       "                        customer_id                          sent_at  clicked  \\\n",
       "0  f13e966f9dc1e2aa7bffec6c9efa8e11 2021-01-04 10:03:16.376000+00:00        0   \n",
       "1  f13e966f9dc1e2aa7bffec6c9efa8e11 2021-01-12 08:34:09.376000+00:00        0   \n",
       "2  f13e966f9dc1e2aa7bffec6c9efa8e11 2021-01-19 08:58:11.376000+00:00        0   \n",
       "3  f13e966f9dc1e2aa7bffec6c9efa8e11 2021-01-28 10:43:04.376000+00:00        0   \n",
       "4  f13e966f9dc1e2aa7bffec6c9efa8e11 2021-02-04 11:28:56.376000+00:00        0   \n",
       "\n",
       "   converted customer_country  message_number  message_day_intervals  \n",
       "0          0              NaN             1.0               0.000000  \n",
       "1          0              NaN             2.0               7.938113  \n",
       "2          0              NaN             3.0               7.016690  \n",
       "3          0              NaN             4.0               9.072836  \n",
       "4          0              NaN             5.0               7.031852  "
      ]
     },
     "execution_count": 37,
     "metadata": {},
     "output_type": "execute_result"
    }
   ],
   "source": [
    "df_timeslice['message_day_intervals'] = df_timeslice.groupby('customer_id')['sent_at'].diff() / np.timedelta64(1, 'D')\n",
    "df_timeslice['message_day_intervals'].fillna(0, inplace=True)\n",
    "df_timeslice.head()"
   ]
  },
  {
   "cell_type": "code",
   "execution_count": 38,
   "id": "685695c8-0629-42b5-abe3-1b0d53836b7a",
   "metadata": {},
   "outputs": [
    {
     "name": "stdout",
     "output_type": "stream",
     "text": [
      "(9751, 5)\n"
     ]
    },
    {
     "data": {
      "text/html": [
       "<div>\n",
       "<style scoped>\n",
       "    .dataframe tbody tr th:only-of-type {\n",
       "        vertical-align: middle;\n",
       "    }\n",
       "\n",
       "    .dataframe tbody tr th {\n",
       "        vertical-align: top;\n",
       "    }\n",
       "\n",
       "    .dataframe thead th {\n",
       "        text-align: right;\n",
       "    }\n",
       "</style>\n",
       "<table border=\"1\" class=\"dataframe\">\n",
       "  <thead>\n",
       "    <tr style=\"text-align: right;\">\n",
       "      <th></th>\n",
       "      <th>customer_id</th>\n",
       "      <th>clicked</th>\n",
       "      <th>converted</th>\n",
       "      <th>message_number</th>\n",
       "      <th>message_day_intervals</th>\n",
       "    </tr>\n",
       "  </thead>\n",
       "  <tbody>\n",
       "    <tr>\n",
       "      <th>0</th>\n",
       "      <td>00043de85b74cba03f23dfe600b781bb</td>\n",
       "      <td>0</td>\n",
       "      <td>0</td>\n",
       "      <td>45.0</td>\n",
       "      <td>54.0</td>\n",
       "    </tr>\n",
       "    <tr>\n",
       "      <th>1</th>\n",
       "      <td>0004a5f5de52a32daabb66e9c69ca05a</td>\n",
       "      <td>3</td>\n",
       "      <td>0</td>\n",
       "      <td>595.0</td>\n",
       "      <td>229.9</td>\n",
       "    </tr>\n",
       "    <tr>\n",
       "      <th>2</th>\n",
       "      <td>0021b8a5c5747c1b2cdca92c54d68d2b</td>\n",
       "      <td>0</td>\n",
       "      <td>0</td>\n",
       "      <td>153.0</td>\n",
       "      <td>110.8</td>\n",
       "    </tr>\n",
       "    <tr>\n",
       "      <th>3</th>\n",
       "      <td>002cb5e3ce196755e4705e3ce2253077</td>\n",
       "      <td>1</td>\n",
       "      <td>1</td>\n",
       "      <td>105.0</td>\n",
       "      <td>88.7</td>\n",
       "    </tr>\n",
       "    <tr>\n",
       "      <th>4</th>\n",
       "      <td>0033da85f997a74fdffc322dc6f6d217</td>\n",
       "      <td>0</td>\n",
       "      <td>0</td>\n",
       "      <td>171.0</td>\n",
       "      <td>118.1</td>\n",
       "    </tr>\n",
       "  </tbody>\n",
       "</table>\n",
       "</div>"
      ],
      "text/plain": [
       "                        customer_id  clicked  converted  message_number  \\\n",
       "0  00043de85b74cba03f23dfe600b781bb        0          0            45.0   \n",
       "1  0004a5f5de52a32daabb66e9c69ca05a        3          0           595.0   \n",
       "2  0021b8a5c5747c1b2cdca92c54d68d2b        0          0           153.0   \n",
       "3  002cb5e3ce196755e4705e3ce2253077        1          1           105.0   \n",
       "4  0033da85f997a74fdffc322dc6f6d217        0          0           171.0   \n",
       "\n",
       "   message_day_intervals  \n",
       "0                   54.0  \n",
       "1                  229.9  \n",
       "2                  110.8  \n",
       "3                   88.7  \n",
       "4                  118.1  "
      ]
     },
     "execution_count": 38,
     "metadata": {},
     "output_type": "execute_result"
    }
   ],
   "source": [
    "df_timeslice_intervals_aggregate = df_timeslice.groupby(by=[\"customer_id\"]).sum(numeric_only=True)\n",
    "df_timeslice_intervals_aggregate[\"message_day_intervals\"] = df_timeslice_intervals_aggregate[\"message_day_intervals\"].round(decimals = 1)\n",
    "df_timeslice_intervals_aggregate.reset_index(inplace=True, drop=False)\n",
    "\n",
    "print(df_timeslice_intervals_aggregate.shape)\n",
    "df_timeslice_intervals_aggregate.head()"
   ]
  },
  {
   "cell_type": "code",
   "execution_count": 39,
   "id": "90f6b370-7625-44c6-82e2-20d94104844b",
   "metadata": {},
   "outputs": [
    {
     "name": "stdout",
     "output_type": "stream",
     "text": [
      "Mean days per person for the FULL DATASET: 98.629720028715 \n",
      "Mean days per person for people who RESPONDED: 66.06155315085933 \n",
      "Mean days per person for people who DIDN'T RESPOND: 114.1130276895143 \n",
      "Median days per person for the FULL DATASET: 83.8 \n",
      "Median days per person for people who RESPONDED: 51.8 \n",
      "Median days per person for people who DIDN'T RESPOND: 105.0 \n"
     ]
    }
   ],
   "source": [
    "print(\"Mean days per person for the FULL DATASET: %s \" % (df_timeslice_intervals_aggregate[\"message_day_intervals\"].mean()))\n",
    "print(\"Mean days per person for people who RESPONDED: %s \" % (df_timeslice_intervals_aggregate[\"message_day_intervals\"].loc[(df_timeslice_intervals_aggregate['converted'] == 1)].mean()))\n",
    "print(\"Mean days per person for people who DIDN'T RESPOND: %s \" % (df_timeslice_intervals_aggregate[\"message_day_intervals\"].loc[(df_timeslice_intervals_aggregate['converted'] == 0)].mean()))\n",
    "\n",
    "print(\"Median days per person for the FULL DATASET: %s \" % (df_timeslice_intervals_aggregate[\"message_day_intervals\"].median()))\n",
    "print(\"Median days per person for people who RESPONDED: %s \" % (df_timeslice_intervals_aggregate[\"message_day_intervals\"].loc[(df_timeslice_intervals_aggregate['converted'] == 1)].median()))\n",
    "print(\"Median days per person for people who DIDN'T RESPOND: %s \" % (df_timeslice_intervals_aggregate[\"message_day_intervals\"].loc[(df_timeslice_intervals_aggregate['converted'] == 0)].median()))"
   ]
  },
  {
   "cell_type": "code",
   "execution_count": 40,
   "id": "bf6ba648-bcbd-4f3b-8233-6afaf9d3239d",
   "metadata": {},
   "outputs": [
    {
     "data": {
      "text/plain": [
       "<AxesSubplot: xlabel='converted', ylabel='message_day_intervals'>"
      ]
     },
     "execution_count": 40,
     "metadata": {},
     "output_type": "execute_result"
    },
    {
     "data": {
      "image/png": "[encoded data removed]",
      "text/plain": [
       "<Figure size 640x480 with 1 Axes>"
      ]
     },
     "metadata": {},
     "output_type": "display_data"
    }
   ],
   "source": [
    "sns.boxplot(x=\"converted\", y=\"message_day_intervals\", data=df_timeslice_intervals_aggregate)"
   ]
  },
  {
   "cell_type": "markdown",
   "id": "eefdbbc0-abc2-4622-bb50-edc9f0c6fe1b",
   "metadata": {},
   "source": [
    "Noticeable difference in the average / median number of total days \"spent\" on each customer based on if they end up responding or not. The ones that don't respond take up almost double the number of days on average to respond and that seems like it can be improved because time is money\n",
    "\n",
    "but how do you determine which is which before it happens? how do you also prevent ghosting from happening? "
   ]
  },
  {
   "cell_type": "code",
   "execution_count": 41,
   "id": "758014db-610f-4653-8f9c-e9f782eea7dc",
   "metadata": {},
   "outputs": [
    {
     "data": {
      "text/html": [
       "<div>\n",
       "<style scoped>\n",
       "    .dataframe tbody tr th:only-of-type {\n",
       "        vertical-align: middle;\n",
       "    }\n",
       "\n",
       "    .dataframe tbody tr th {\n",
       "        vertical-align: top;\n",
       "    }\n",
       "\n",
       "    .dataframe thead th {\n",
       "        text-align: right;\n",
       "    }\n",
       "</style>\n",
       "<table border=\"1\" class=\"dataframe\">\n",
       "  <thead>\n",
       "    <tr style=\"text-align: right;\">\n",
       "      <th></th>\n",
       "      <th>customer_id</th>\n",
       "      <th>message_number</th>\n",
       "    </tr>\n",
       "  </thead>\n",
       "  <tbody>\n",
       "    <tr>\n",
       "      <th>0</th>\n",
       "      <td>00043de85b74cba03f23dfe600b781bb</td>\n",
       "      <td>9.0</td>\n",
       "    </tr>\n",
       "    <tr>\n",
       "      <th>1</th>\n",
       "      <td>0004a5f5de52a32daabb66e9c69ca05a</td>\n",
       "      <td>34.0</td>\n",
       "    </tr>\n",
       "    <tr>\n",
       "      <th>2</th>\n",
       "      <td>0021b8a5c5747c1b2cdca92c54d68d2b</td>\n",
       "      <td>17.0</td>\n",
       "    </tr>\n",
       "    <tr>\n",
       "      <th>3</th>\n",
       "      <td>002cb5e3ce196755e4705e3ce2253077</td>\n",
       "      <td>14.0</td>\n",
       "    </tr>\n",
       "    <tr>\n",
       "      <th>4</th>\n",
       "      <td>0033da85f997a74fdffc322dc6f6d217</td>\n",
       "      <td>18.0</td>\n",
       "    </tr>\n",
       "  </tbody>\n",
       "</table>\n",
       "</div>"
      ],
      "text/plain": [
       "                        customer_id  message_number\n",
       "0  00043de85b74cba03f23dfe600b781bb             9.0\n",
       "1  0004a5f5de52a32daabb66e9c69ca05a            34.0\n",
       "2  0021b8a5c5747c1b2cdca92c54d68d2b            17.0\n",
       "3  002cb5e3ce196755e4705e3ce2253077            14.0\n",
       "4  0033da85f997a74fdffc322dc6f6d217            18.0"
      ]
     },
     "execution_count": 41,
     "metadata": {},
     "output_type": "execute_result"
    }
   ],
   "source": [
    "df_max_messages = pd.DataFrame(df_timeslice.groupby(['customer_id'], sort=False)['message_number'].max())\n",
    "df_max_messages.sort_values(by=[\"customer_id\"], inplace=True)\n",
    "df_max_messages.reset_index(inplace=True, drop=False)\n",
    "df_max_messages.head()"
   ]
  },
  {
   "cell_type": "code",
   "execution_count": 42,
   "id": "07c3733f-64d6-483f-88d6-c569e27e224a",
   "metadata": {},
   "outputs": [
    {
     "data": {
      "text/html": [
       "<div>\n",
       "<style scoped>\n",
       "    .dataframe tbody tr th:only-of-type {\n",
       "        vertical-align: middle;\n",
       "    }\n",
       "\n",
       "    .dataframe tbody tr th {\n",
       "        vertical-align: top;\n",
       "    }\n",
       "\n",
       "    .dataframe thead th {\n",
       "        text-align: right;\n",
       "    }\n",
       "</style>\n",
       "<table border=\"1\" class=\"dataframe\">\n",
       "  <thead>\n",
       "    <tr style=\"text-align: right;\">\n",
       "      <th></th>\n",
       "      <th>customer_id</th>\n",
       "      <th>clicked</th>\n",
       "      <th>converted</th>\n",
       "      <th>message_number</th>\n",
       "      <th>message_day_intervals</th>\n",
       "      <th>highest_message_number</th>\n",
       "    </tr>\n",
       "  </thead>\n",
       "  <tbody>\n",
       "    <tr>\n",
       "      <th>0</th>\n",
       "      <td>00043de85b74cba03f23dfe600b781bb</td>\n",
       "      <td>0</td>\n",
       "      <td>0</td>\n",
       "      <td>45.0</td>\n",
       "      <td>54.0</td>\n",
       "      <td>9.0</td>\n",
       "    </tr>\n",
       "    <tr>\n",
       "      <th>1</th>\n",
       "      <td>0004a5f5de52a32daabb66e9c69ca05a</td>\n",
       "      <td>3</td>\n",
       "      <td>0</td>\n",
       "      <td>595.0</td>\n",
       "      <td>229.9</td>\n",
       "      <td>34.0</td>\n",
       "    </tr>\n",
       "    <tr>\n",
       "      <th>2</th>\n",
       "      <td>0021b8a5c5747c1b2cdca92c54d68d2b</td>\n",
       "      <td>0</td>\n",
       "      <td>0</td>\n",
       "      <td>153.0</td>\n",
       "      <td>110.8</td>\n",
       "      <td>17.0</td>\n",
       "    </tr>\n",
       "    <tr>\n",
       "      <th>3</th>\n",
       "      <td>002cb5e3ce196755e4705e3ce2253077</td>\n",
       "      <td>1</td>\n",
       "      <td>1</td>\n",
       "      <td>105.0</td>\n",
       "      <td>88.7</td>\n",
       "      <td>14.0</td>\n",
       "    </tr>\n",
       "    <tr>\n",
       "      <th>4</th>\n",
       "      <td>0033da85f997a74fdffc322dc6f6d217</td>\n",
       "      <td>0</td>\n",
       "      <td>0</td>\n",
       "      <td>171.0</td>\n",
       "      <td>118.1</td>\n",
       "      <td>18.0</td>\n",
       "    </tr>\n",
       "  </tbody>\n",
       "</table>\n",
       "</div>"
      ],
      "text/plain": [
       "                        customer_id  clicked  converted  message_number  \\\n",
       "0  00043de85b74cba03f23dfe600b781bb        0          0            45.0   \n",
       "1  0004a5f5de52a32daabb66e9c69ca05a        3          0           595.0   \n",
       "2  0021b8a5c5747c1b2cdca92c54d68d2b        0          0           153.0   \n",
       "3  002cb5e3ce196755e4705e3ce2253077        1          1           105.0   \n",
       "4  0033da85f997a74fdffc322dc6f6d217        0          0           171.0   \n",
       "\n",
       "   message_day_intervals  highest_message_number  \n",
       "0                   54.0                     9.0  \n",
       "1                  229.9                    34.0  \n",
       "2                  110.8                    17.0  \n",
       "3                   88.7                    14.0  \n",
       "4                  118.1                    18.0  "
      ]
     },
     "execution_count": 42,
     "metadata": {},
     "output_type": "execute_result"
    }
   ],
   "source": [
    "df_timeslice_intervals_aggregate[\"highest_message_number\"] = df_max_messages[\"message_number\"].copy()\n",
    "df_timeslice_intervals_aggregate.head()"
   ]
  },
  {
   "cell_type": "code",
   "execution_count": 137,
   "id": "c69a9d18-b615-49c1-8e42-2bb3cc65efbe",
   "metadata": {},
   "outputs": [
    {
     "name": "stdout",
     "output_type": "stream",
     "text": [
      "Mean Messages per person for people who RESPONDED: 10.363781031190324 \n",
      "Mean Messages per person for people who DIDN'T RESPOND: 17.15509154183689 \n",
      "Median Messages per person for people who RESPONDED: 8.0 \n",
      "Median Messages per person for people who DIDN'T RESPOND: 16.0 \n"
     ]
    }
   ],
   "source": [
    "print(\"Mean Messages per person for people who RESPONDED: %s \" % (df_timeslice_intervals_aggregate[\"highest_message_number\"].loc[(df_timeslice_intervals_aggregate['converted'] == 1)].mean()))\n",
    "print(\"Mean Messages per person for people who DIDN'T RESPOND: %s \" % (df_timeslice_intervals_aggregate[\"highest_message_number\"].loc[(df_timeslice_intervals_aggregate['converted'] == 0)].mean()))\n",
    "\n",
    "print(\"Median Messages per person for people who RESPONDED: %s \" % (df_timeslice_intervals_aggregate[\"highest_message_number\"].loc[(df_timeslice_intervals_aggregate['converted'] == 1)].median()))\n",
    "print(\"Median Messages per person for people who DIDN'T RESPOND: %s \" % (df_timeslice_intervals_aggregate[\"highest_message_number\"].loc[(df_timeslice_intervals_aggregate['converted'] == 0)].median()))"
   ]
  },
  {
   "cell_type": "markdown",
   "id": "7d88e540-9cbf-4048-8735-220599ced138",
   "metadata": {},
   "source": [
    "mean number of messages PER person!!! a while ago it focused on time spent on a person and this time it's how many messages on average. The results seem consistent that people who don't reply require almost double the messages since it is not guaranteed if they'll even reply"
   ]
  },
  {
   "cell_type": "markdown",
   "id": "618d0dca-e3e3-4a13-b688-563bd5200bd1",
   "metadata": {},
   "source": [
    "## #.Random Exploration"
   ]
  },
  {
   "cell_type": "code",
   "execution_count": 136,
   "id": "5d7e17ed-4b8a-439f-b481-6633cc2e10c1",
   "metadata": {},
   "outputs": [
    {
     "data": {
      "text/html": [
       "<div>\n",
       "<style scoped>\n",
       "    .dataframe tbody tr th:only-of-type {\n",
       "        vertical-align: middle;\n",
       "    }\n",
       "\n",
       "    .dataframe tbody tr th {\n",
       "        vertical-align: top;\n",
       "    }\n",
       "\n",
       "    .dataframe thead th {\n",
       "        text-align: right;\n",
       "    }\n",
       "</style>\n",
       "<table border=\"1\" class=\"dataframe\">\n",
       "  <thead>\n",
       "    <tr style=\"text-align: right;\">\n",
       "      <th></th>\n",
       "      <th>message_id</th>\n",
       "      <th>customer_id</th>\n",
       "      <th>sent_at</th>\n",
       "      <th>clicked</th>\n",
       "      <th>converted</th>\n",
       "      <th>client_id</th>\n",
       "      <th>gender</th>\n",
       "      <th>customer_country</th>\n",
       "      <th>age</th>\n",
       "      <th>created_at</th>\n",
       "      <th>client_name</th>\n",
       "      <th>product_type</th>\n",
       "      <th>client_country</th>\n",
       "      <th>channel</th>\n",
       "      <th>message_number</th>\n",
       "    </tr>\n",
       "  </thead>\n",
       "  <tbody>\n",
       "    <tr>\n",
       "      <th>0</th>\n",
       "      <td>18e91807e44601cc354e0438de23ec49</td>\n",
       "      <td>00043de85b74cba03f23dfe600b781bb</td>\n",
       "      <td>2021-09-28 09:15:05.836000+00:00</td>\n",
       "      <td>0</td>\n",
       "      <td>0</td>\n",
       "      <td>c81e728d9d4c2f636f067f89cc14862c</td>\n",
       "      <td>F</td>\n",
       "      <td>UK</td>\n",
       "      <td>64.0</td>\n",
       "      <td>2021-07-28 20:32:40.836000+00:00</td>\n",
       "      <td>Badgerbank</td>\n",
       "      <td>CreditCard</td>\n",
       "      <td>UK</td>\n",
       "      <td>Email</td>\n",
       "      <td>9.0</td>\n",
       "    </tr>\n",
       "    <tr>\n",
       "      <th>1</th>\n",
       "      <td>630bed081fc98777bf6dc40a130047ff</td>\n",
       "      <td>0004a5f5de52a32daabb66e9c69ca05a</td>\n",
       "      <td>2021-09-29 09:45:16.913000+00:00</td>\n",
       "      <td>0</td>\n",
       "      <td>0</td>\n",
       "      <td>eccbc87e4b5ce2fe28308fd9f2a7baf3</td>\n",
       "      <td>M</td>\n",
       "      <td>NZ</td>\n",
       "      <td>28.0</td>\n",
       "      <td>2021-02-01 08:03:56.913000+00:00</td>\n",
       "      <td>KiwiPay</td>\n",
       "      <td>BNPL</td>\n",
       "      <td>NZ</td>\n",
       "      <td>SMS</td>\n",
       "      <td>34.0</td>\n",
       "    </tr>\n",
       "    <tr>\n",
       "      <th>2</th>\n",
       "      <td>840a7a84db4f789a5240a5a9b18495e0</td>\n",
       "      <td>0021b8a5c5747c1b2cdca92c54d68d2b</td>\n",
       "      <td>2021-09-28 10:24:19.694000+00:00</td>\n",
       "      <td>0</td>\n",
       "      <td>0</td>\n",
       "      <td>a87ff679a2f3e71d9181a67b7542122c</td>\n",
       "      <td>F</td>\n",
       "      <td>NZ</td>\n",
       "      <td>63.0</td>\n",
       "      <td>2021-06-04 21:00:23.694000+00:00</td>\n",
       "      <td>Skink Solar</td>\n",
       "      <td>Energy</td>\n",
       "      <td>NZ</td>\n",
       "      <td>Email</td>\n",
       "      <td>17.0</td>\n",
       "    </tr>\n",
       "    <tr>\n",
       "      <th>3</th>\n",
       "      <td>1fd6a6f2cb3717b57d9cc4f42c1cc119</td>\n",
       "      <td>002cb5e3ce196755e4705e3ce2253077</td>\n",
       "      <td>2021-07-07 10:14:27.494000+00:00</td>\n",
       "      <td>1</td>\n",
       "      <td>1</td>\n",
       "      <td>1679091c5a880faf6fb5e6087eb1b2dc</td>\n",
       "      <td>F</td>\n",
       "      <td>CA</td>\n",
       "      <td>19.0</td>\n",
       "      <td>2021-03-31 21:42:19.494000+00:00</td>\n",
       "      <td>Moose Money</td>\n",
       "      <td>BNPL</td>\n",
       "      <td>CA</td>\n",
       "      <td>Email</td>\n",
       "      <td>14.0</td>\n",
       "    </tr>\n",
       "    <tr>\n",
       "      <th>4</th>\n",
       "      <td>95a25a4c385c238adca84f5c94582ce4</td>\n",
       "      <td>0033da85f997a74fdffc322dc6f6d217</td>\n",
       "      <td>2021-09-29 12:58:55.814000+00:00</td>\n",
       "      <td>0</td>\n",
       "      <td>0</td>\n",
       "      <td>c4ca4238a0b923820dcc509a6f75849b</td>\n",
       "      <td>NaN</td>\n",
       "      <td>UK</td>\n",
       "      <td>57.0</td>\n",
       "      <td>2021-05-28 03:00:43.814000+00:00</td>\n",
       "      <td>Fox Energy</td>\n",
       "      <td>Energy</td>\n",
       "      <td>UK</td>\n",
       "      <td>Email</td>\n",
       "      <td>18.0</td>\n",
       "    </tr>\n",
       "  </tbody>\n",
       "</table>\n",
       "</div>"
      ],
      "text/plain": [
       "                         message_id                       customer_id  \\\n",
       "0  18e91807e44601cc354e0438de23ec49  00043de85b74cba03f23dfe600b781bb   \n",
       "1  630bed081fc98777bf6dc40a130047ff  0004a5f5de52a32daabb66e9c69ca05a   \n",
       "2  840a7a84db4f789a5240a5a9b18495e0  0021b8a5c5747c1b2cdca92c54d68d2b   \n",
       "3  1fd6a6f2cb3717b57d9cc4f42c1cc119  002cb5e3ce196755e4705e3ce2253077   \n",
       "4  95a25a4c385c238adca84f5c94582ce4  0033da85f997a74fdffc322dc6f6d217   \n",
       "\n",
       "                           sent_at  clicked  converted  \\\n",
       "0 2021-09-28 09:15:05.836000+00:00        0          0   \n",
       "1 2021-09-29 09:45:16.913000+00:00        0          0   \n",
       "2 2021-09-28 10:24:19.694000+00:00        0          0   \n",
       "3 2021-07-07 10:14:27.494000+00:00        1          1   \n",
       "4 2021-09-29 12:58:55.814000+00:00        0          0   \n",
       "\n",
       "                          client_id gender customer_country   age  \\\n",
       "0  c81e728d9d4c2f636f067f89cc14862c      F               UK  64.0   \n",
       "1  eccbc87e4b5ce2fe28308fd9f2a7baf3      M               NZ  28.0   \n",
       "2  a87ff679a2f3e71d9181a67b7542122c      F               NZ  63.0   \n",
       "3  1679091c5a880faf6fb5e6087eb1b2dc      F               CA  19.0   \n",
       "4  c4ca4238a0b923820dcc509a6f75849b    NaN               UK  57.0   \n",
       "\n",
       "                         created_at  client_name product_type client_country  \\\n",
       "0  2021-07-28 20:32:40.836000+00:00   Badgerbank   CreditCard             UK   \n",
       "1  2021-02-01 08:03:56.913000+00:00      KiwiPay         BNPL             NZ   \n",
       "2  2021-06-04 21:00:23.694000+00:00  Skink Solar       Energy             NZ   \n",
       "3  2021-03-31 21:42:19.494000+00:00  Moose Money         BNPL             CA   \n",
       "4  2021-05-28 03:00:43.814000+00:00   Fox Energy       Energy             UK   \n",
       "\n",
       "  channel  message_number  \n",
       "0   Email             9.0  \n",
       "1     SMS            34.0  \n",
       "2   Email            17.0  \n",
       "3   Email            14.0  \n",
       "4   Email            18.0  "
      ]
     },
     "execution_count": 136,
     "metadata": {},
     "output_type": "execute_result"
    }
   ],
   "source": [
    "\"\"\"\n",
    "the dataframe \"df_last_messages\" is based on if each customer replies or not whereas the graphs above represent only the customers that replied\n",
    "\n",
    "\"\"\"\n",
    "df_last_messages = df_csv.copy()\n",
    "df_last_messages = df_hoho.sort_values('message_number', ascending=False).drop_duplicates([\"customer_id\"])\n",
    "df_last_messages.sort_values(by=[\"customer_id\"], inplace=True)\n",
    "df_last_messages.reset_index(inplace=True, drop=True)\n",
    "df_last_messages.head()"
   ]
  },
  {
   "cell_type": "code",
   "execution_count": 130,
   "id": "c731d89c-c43f-4557-a832-ca96114d7d7f",
   "metadata": {},
   "outputs": [],
   "source": [
    "def categorical_converted_splitter(dataframe, column_name):\n",
    "    \"\"\"\n",
    "    dataframe = source dataframe\n",
    "    column_name = categorical column where we'll split it by converted 0's and 1's then do a value counts\n",
    "    \n",
    "    - this will create separate dataframes for the categorical values, one wherein the customer responded and one where they didn't\n",
    "    - both dataframes are left joined then are plotted\n",
    "    \n",
    "    \"\"\"\n",
    "    df_responded = pd.DataFrame(dataframe[column_name].loc[(dataframe['converted'] == 1)].value_counts())\n",
    "    df_responded.reset_index(inplace=True, drop=False)\n",
    "    df_responded.rename(columns={'index': column_name, column_name: \"responded\"}, inplace=True)\n",
    "    \n",
    "    df_ghosted = pd.DataFrame(dataframe[column_name].loc[(dataframe['converted'] == 0)].value_counts())\n",
    "    df_ghosted.reset_index(inplace=True, drop=False)\n",
    "    df_ghosted.rename(columns={'index': column_name, column_name: \"ghosted\"}, inplace=True)\n",
    "    \n",
    "    df_responded = df_responded.merge(df_ghosted, on=column_name, how='left')\n",
    "    df_responded.plot(x=column_name, y=['ghosted', 'responded'], kind='bar', color=['tab:blue', 'tab:orange'],figsize=(9, 8))"
   ]
  },
  {
   "cell_type": "code",
   "execution_count": 131,
   "id": "6cd25e48-edd8-4ec1-87cd-0361061ce361",
   "metadata": {},
   "outputs": [],
   "source": [
    "# df_client_responded = pd.DataFrame(df_last_messages[\"client_name\"].loc[(df_last_messages['converted'] == 1)].value_counts())\n",
    "# df_client_responded.reset_index(inplace=True, drop=False)\n",
    "# df_client_responded.rename(columns={\"index\": \"client\", \"client_name\": \"responded\"}, inplace=True)\n",
    "\n",
    "# df_client_ghosted = pd.DataFrame(df_last_messages[\"client_name\"].loc[(df_last_messages['converted'] == 0)].value_counts())\n",
    "# df_client_ghosted.reset_index(inplace=True, drop=False)\n",
    "# df_client_ghosted.rename(columns={\"index\": \"client\", \"client_name\": \"ghosted\"}, inplace=True)\n",
    "\n",
    "# df_client_responded = df_client_responded.merge(df_client_ghosted, on='client', how='left')\n",
    "# df_client_responded.plot(x=\"client\", y=[\"responded\", \"ghosted\"], kind=\"bar\", figsize=(9, 8))"
   ]
  },
  {
   "cell_type": "code",
   "execution_count": 132,
   "id": "ea9fd219-6712-473d-9fcb-b99f280ad8c2",
   "metadata": {},
   "outputs": [
    {
     "data": {
      "image/png": "[encoded data removed]",
      "text/plain": [
       "<Figure size 900x800 with 1 Axes>"
      ]
     },
     "metadata": {},
     "output_type": "display_data"
    }
   ],
   "source": [
    "categorical_converted_splitter(df_last_messages, \"client_name\")"
   ]
  },
  {
   "cell_type": "code",
   "execution_count": 133,
   "id": "11c0334c-76d9-4731-96d4-eac071bbf308",
   "metadata": {},
   "outputs": [
    {
     "data": {
      "image/png": "[encoded data removed]",
      "text/plain": [
       "<Figure size 900x800 with 1 Axes>"
      ]
     },
     "metadata": {},
     "output_type": "display_data"
    }
   ],
   "source": [
    "categorical_converted_splitter(df_last_messages, \"product_type\")"
   ]
  },
  {
   "cell_type": "code",
   "execution_count": 138,
   "id": "fb8e153f-beb7-400b-82b2-0712d20126cf",
   "metadata": {},
   "outputs": [
    {
     "data": {
      "image/png": "[encoded data removed]",
      "text/plain": [
       "<Figure size 900x800 with 1 Axes>"
      ]
     },
     "metadata": {},
     "output_type": "display_data"
    }
   ],
   "source": [
    "categorical_converted_splitter(df_last_messages, \"channel\")"
   ]
  },
  {
   "cell_type": "markdown",
   "id": "37f93964-3693-4b22-9d15-a86148931306",
   "metadata": {
    "tags": []
   },
   "source": [
    "### Does age have anything to do with when they reply or not?"
   ]
  },
  {
   "cell_type": "code",
   "execution_count": 75,
   "id": "57d855db-de80-49ae-b019-8794693a8674",
   "metadata": {},
   "outputs": [
    {
     "data": {
      "text/plain": [
       "<AxesSubplot: xlabel='converted', ylabel='age'>"
      ]
     },
     "execution_count": 75,
     "metadata": {},
     "output_type": "execute_result"
    },
    {
     "data": {
      "image/png": "[encoded data removed]",
      "text/plain": [
       "<Figure size 640x480 with 1 Axes>"
      ]
     },
     "metadata": {},
     "output_type": "display_data"
    }
   ],
   "source": [
    "sns.boxplot(x=\"converted\", y=\"age\", data=df_last_messages)"
   ]
  },
  {
   "cell_type": "markdown",
   "id": "244c10af-d980-43e1-a505-9692e2b1c35f",
   "metadata": {},
   "source": [
    "## 4. What are the main metrics, dimensions and filters to be included in the dashboard?"
   ]
  },
  {
   "cell_type": "code",
   "execution_count": null,
   "id": "a38f8e6d-9809-4947-93c6-4cee36694636",
   "metadata": {},
   "outputs": [],
   "source": []
  }
 ],
 "metadata": {
  "kernelspec": {
   "display_name": "indebtedvenv",
   "language": "python",
   "name": "indebtedvenv"
  },
  "language_info": {
   "codemirror_mode": {
    "name": "ipython",
    "version": 3
   },
   "file_extension": ".py",
   "mimetype": "text/x-python",
   "name": "python",
   "nbconvert_exporter": "python",
   "pygments_lexer": "ipython3",
   "version": "3.9.5"
  }
 },
 "nbformat": 4,
 "nbformat_minor": 5
}
