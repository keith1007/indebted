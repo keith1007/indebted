{
 "cells": [
  {
   "cell_type": "markdown",
   "id": "886923d7-7215-481d-ac0e-154a306f4c12",
   "metadata": {},
   "source": [
    "# InDebted DA Takehome - Keith Santos\n",
    "I'll be doing an EDA to answer these 5 questions and hopefully gain more insights \n",
    "\n",
    "1. How should we handle the missing values for the columns age and customer_country?\n",
    "2. What time of the day should we send our messages in each country?\n",
    "3. What should be the preferred channel to use when communicating with customers?\n",
    "4. What are the main metrics, dimensions and filters to be included in the dashboard?\n",
    "5. What is the communications performance over time? What could be causing this behaviour?\n"
   ]
  },
  {
   "cell_type": "code",
   "execution_count": 96,
   "id": "91ade0b4-de60-4bfe-89b0-7b5a9afed3d7",
   "metadata": {},
   "outputs": [],
   "source": [
    "import os\n",
    "import pandas as pd\n",
    "import numpy as np\n",
    "import matplotlib.pyplot as plt\n",
    "import seaborn as sns\n",
    "from scipy import stats\n",
    "from scipy.stats import mannwhitneyu\n",
    "\n",
    "pd.set_option('display.max_rows', None)"
   ]
  },
  {
   "cell_type": "code",
   "execution_count": 4,
   "id": "aadb114f-063f-4e22-92f3-b4fbd64e233d",
   "metadata": {},
   "outputs": [
    {
     "name": "stdout",
     "output_type": "stream",
     "text": [
      "(145941, 15)\n"
     ]
    },
    {
     "data": {
      "text/html": [
       "<div>\n",
       "<style scoped>\n",
       "    .dataframe tbody tr th:only-of-type {\n",
       "        vertical-align: middle;\n",
       "    }\n",
       "\n",
       "    .dataframe tbody tr th {\n",
       "        vertical-align: top;\n",
       "    }\n",
       "\n",
       "    .dataframe thead th {\n",
       "        text-align: right;\n",
       "    }\n",
       "</style>\n",
       "<table border=\"1\" class=\"dataframe\">\n",
       "  <thead>\n",
       "    <tr style=\"text-align: right;\">\n",
       "      <th></th>\n",
       "      <th>message_id</th>\n",
       "      <th>customer_id</th>\n",
       "      <th>sent_at</th>\n",
       "      <th>clicked</th>\n",
       "      <th>converted</th>\n",
       "      <th>client_id</th>\n",
       "      <th>gender</th>\n",
       "      <th>customer_country</th>\n",
       "      <th>age</th>\n",
       "      <th>created_at</th>\n",
       "      <th>client_name</th>\n",
       "      <th>product_type</th>\n",
       "      <th>client_country</th>\n",
       "      <th>channel</th>\n",
       "      <th>message_number</th>\n",
       "    </tr>\n",
       "  </thead>\n",
       "  <tbody>\n",
       "    <tr>\n",
       "      <th>0</th>\n",
       "      <td>28d82c62db5989d9441351f58738c6a8</td>\n",
       "      <td>f13e966f9dc1e2aa7bffec6c9efa8e11</td>\n",
       "      <td>2021-01-04 10:03:16.376000+00:00</td>\n",
       "      <td>0</td>\n",
       "      <td>0</td>\n",
       "      <td>cfcd208495d565ef66e7dff9f98764da</td>\n",
       "      <td>F</td>\n",
       "      <td>NaN</td>\n",
       "      <td>51.0</td>\n",
       "      <td>2021-01-03 15:58:50.376000+00:00</td>\n",
       "      <td>SwanPay</td>\n",
       "      <td>BNPL</td>\n",
       "      <td>UK</td>\n",
       "      <td>SMS</td>\n",
       "      <td>1.0</td>\n",
       "    </tr>\n",
       "    <tr>\n",
       "      <th>1</th>\n",
       "      <td>0f98a1bbf7f2b66f420816a65c8d9b77</td>\n",
       "      <td>f13e966f9dc1e2aa7bffec6c9efa8e11</td>\n",
       "      <td>2021-01-12 08:34:09.376000+00:00</td>\n",
       "      <td>0</td>\n",
       "      <td>0</td>\n",
       "      <td>cfcd208495d565ef66e7dff9f98764da</td>\n",
       "      <td>F</td>\n",
       "      <td>NaN</td>\n",
       "      <td>51.0</td>\n",
       "      <td>2021-01-03 15:58:50.376000+00:00</td>\n",
       "      <td>SwanPay</td>\n",
       "      <td>BNPL</td>\n",
       "      <td>UK</td>\n",
       "      <td>SMS</td>\n",
       "      <td>2.0</td>\n",
       "    </tr>\n",
       "    <tr>\n",
       "      <th>2</th>\n",
       "      <td>97f9ed967d2334ce0b4ebfcfc9b5c25c</td>\n",
       "      <td>f13e966f9dc1e2aa7bffec6c9efa8e11</td>\n",
       "      <td>2021-01-19 08:58:11.376000+00:00</td>\n",
       "      <td>0</td>\n",
       "      <td>0</td>\n",
       "      <td>cfcd208495d565ef66e7dff9f98764da</td>\n",
       "      <td>F</td>\n",
       "      <td>NaN</td>\n",
       "      <td>51.0</td>\n",
       "      <td>2021-01-03 15:58:50.376000+00:00</td>\n",
       "      <td>SwanPay</td>\n",
       "      <td>BNPL</td>\n",
       "      <td>UK</td>\n",
       "      <td>Email</td>\n",
       "      <td>3.0</td>\n",
       "    </tr>\n",
       "    <tr>\n",
       "      <th>3</th>\n",
       "      <td>3d0615ca493d69e16265ab688495c134</td>\n",
       "      <td>f13e966f9dc1e2aa7bffec6c9efa8e11</td>\n",
       "      <td>2021-01-28 10:43:04.376000+00:00</td>\n",
       "      <td>0</td>\n",
       "      <td>0</td>\n",
       "      <td>cfcd208495d565ef66e7dff9f98764da</td>\n",
       "      <td>F</td>\n",
       "      <td>NaN</td>\n",
       "      <td>51.0</td>\n",
       "      <td>2021-01-03 15:58:50.376000+00:00</td>\n",
       "      <td>SwanPay</td>\n",
       "      <td>BNPL</td>\n",
       "      <td>UK</td>\n",
       "      <td>Email</td>\n",
       "      <td>4.0</td>\n",
       "    </tr>\n",
       "    <tr>\n",
       "      <th>4</th>\n",
       "      <td>3eb3a03a007bd1adf7482e6d95f7b942</td>\n",
       "      <td>f13e966f9dc1e2aa7bffec6c9efa8e11</td>\n",
       "      <td>2021-02-04 11:28:56.376000+00:00</td>\n",
       "      <td>0</td>\n",
       "      <td>0</td>\n",
       "      <td>cfcd208495d565ef66e7dff9f98764da</td>\n",
       "      <td>F</td>\n",
       "      <td>NaN</td>\n",
       "      <td>51.0</td>\n",
       "      <td>2021-01-03 15:58:50.376000+00:00</td>\n",
       "      <td>SwanPay</td>\n",
       "      <td>BNPL</td>\n",
       "      <td>UK</td>\n",
       "      <td>Email</td>\n",
       "      <td>5.0</td>\n",
       "    </tr>\n",
       "  </tbody>\n",
       "</table>\n",
       "</div>"
      ],
      "text/plain": [
       "                         message_id                       customer_id  \\\n",
       "0  28d82c62db5989d9441351f58738c6a8  f13e966f9dc1e2aa7bffec6c9efa8e11   \n",
       "1  0f98a1bbf7f2b66f420816a65c8d9b77  f13e966f9dc1e2aa7bffec6c9efa8e11   \n",
       "2  97f9ed967d2334ce0b4ebfcfc9b5c25c  f13e966f9dc1e2aa7bffec6c9efa8e11   \n",
       "3  3d0615ca493d69e16265ab688495c134  f13e966f9dc1e2aa7bffec6c9efa8e11   \n",
       "4  3eb3a03a007bd1adf7482e6d95f7b942  f13e966f9dc1e2aa7bffec6c9efa8e11   \n",
       "\n",
       "                            sent_at  clicked  converted  \\\n",
       "0  2021-01-04 10:03:16.376000+00:00        0          0   \n",
       "1  2021-01-12 08:34:09.376000+00:00        0          0   \n",
       "2  2021-01-19 08:58:11.376000+00:00        0          0   \n",
       "3  2021-01-28 10:43:04.376000+00:00        0          0   \n",
       "4  2021-02-04 11:28:56.376000+00:00        0          0   \n",
       "\n",
       "                          client_id gender customer_country   age  \\\n",
       "0  cfcd208495d565ef66e7dff9f98764da      F              NaN  51.0   \n",
       "1  cfcd208495d565ef66e7dff9f98764da      F              NaN  51.0   \n",
       "2  cfcd208495d565ef66e7dff9f98764da      F              NaN  51.0   \n",
       "3  cfcd208495d565ef66e7dff9f98764da      F              NaN  51.0   \n",
       "4  cfcd208495d565ef66e7dff9f98764da      F              NaN  51.0   \n",
       "\n",
       "                         created_at client_name product_type client_country  \\\n",
       "0  2021-01-03 15:58:50.376000+00:00     SwanPay         BNPL             UK   \n",
       "1  2021-01-03 15:58:50.376000+00:00     SwanPay         BNPL             UK   \n",
       "2  2021-01-03 15:58:50.376000+00:00     SwanPay         BNPL             UK   \n",
       "3  2021-01-03 15:58:50.376000+00:00     SwanPay         BNPL             UK   \n",
       "4  2021-01-03 15:58:50.376000+00:00     SwanPay         BNPL             UK   \n",
       "\n",
       "  channel  message_number  \n",
       "0     SMS             1.0  \n",
       "1     SMS             2.0  \n",
       "2   Email             3.0  \n",
       "3   Email             4.0  \n",
       "4   Email             5.0  "
      ]
     },
     "execution_count": 4,
     "metadata": {},
     "output_type": "execute_result"
    }
   ],
   "source": [
    "df_csv = pd.read_csv('communications.csv')#, on_bad_lines='skip')\n",
    "print(df_csv.shape)\n",
    "df_csv.head()"
   ]
  },
  {
   "cell_type": "code",
   "execution_count": 5,
   "id": "bd142693-a58d-4a9e-88ee-dbf128b6a9dd",
   "metadata": {},
   "outputs": [
    {
     "data": {
      "text/plain": [
       "message_id           object\n",
       "customer_id          object\n",
       "sent_at              object\n",
       "clicked               int64\n",
       "converted             int64\n",
       "client_id            object\n",
       "gender               object\n",
       "customer_country     object\n",
       "age                 float64\n",
       "created_at           object\n",
       "client_name          object\n",
       "product_type         object\n",
       "client_country       object\n",
       "channel              object\n",
       "message_number      float64\n",
       "dtype: object"
      ]
     },
     "execution_count": 5,
     "metadata": {},
     "output_type": "execute_result"
    }
   ],
   "source": [
    "df_csv.dtypes"
   ]
  },
  {
   "cell_type": "markdown",
   "id": "5d0236e3-cead-4ef8-b352-59025cce2e95",
   "metadata": {},
   "source": [
    "### 1. How should we handle the missing values for the columns age and customer_country?\n",
    "- Tried to see if splitting the UTC from the datetime and doing the value counts would yield certain values that correspond to customer_country but didn't expect so much variation for UTC "
   ]
  },
  {
   "cell_type": "code",
   "execution_count": 6,
   "id": "d2437b1d-be6a-41ce-b353-795b1f69c022",
   "metadata": {},
   "outputs": [
    {
     "data": {
      "text/plain": [
       "message_id              0\n",
       "customer_id             0\n",
       "sent_at                 0\n",
       "clicked                 0\n",
       "converted               0\n",
       "client_id               0\n",
       "gender              31676\n",
       "customer_country    30146\n",
       "age                 22020\n",
       "created_at              0\n",
       "client_name             0\n",
       "product_type            0\n",
       "client_country          0\n",
       "channel                 0\n",
       "message_number          0\n",
       "dtype: int64"
      ]
     },
     "execution_count": 6,
     "metadata": {},
     "output_type": "execute_result"
    }
   ],
   "source": [
    "df_csv.isna().sum()"
   ]
  },
  {
   "cell_type": "code",
   "execution_count": 7,
   "id": "ccfeb62b-dfe0-4beb-a178-8e9bb2f5727a",
   "metadata": {},
   "outputs": [
    {
     "data": {
      "text/plain": [
       "UK    49146\n",
       "CA    33911\n",
       "NZ    32738\n",
       "Name: customer_country, dtype: int64"
      ]
     },
     "execution_count": 7,
     "metadata": {},
     "output_type": "execute_result"
    }
   ],
   "source": [
    "df_csv['customer_country'].value_counts()"
   ]
  },
  {
   "cell_type": "code",
   "execution_count": 8,
   "id": "00872980-9765-4013-8ed9-c8a6ca5cedd0",
   "metadata": {},
   "outputs": [],
   "source": [
    "#df_csv[\"age\"].value_counts().sort_index()"
   ]
  },
  {
   "cell_type": "markdown",
   "id": "e2b63428-87d3-4d89-80ee-9283456b15ab",
   "metadata": {},
   "source": [
    "UTC doesn't seem to be customer country specific and some NaNs share the same UTC with only 1 other customer country but don't think it's indicative + too much work to manually check if there are 2 matches"
   ]
  },
  {
   "cell_type": "code",
   "execution_count": 178,
   "id": "19dea824-461e-4d4b-95db-c4708a0bed8a",
   "metadata": {},
   "outputs": [],
   "source": [
    "df_UTCtest = pd.DataFrame(columns=['customer_country','UTC'])\n",
    "df_UTCtest['customer_country'] = df_csv['customer_country'].copy()\n",
    "df_UTCtest['UTC'] = df_csv['sent_at'].str.split('.').str[1].copy()"
   ]
  },
  {
   "cell_type": "code",
   "execution_count": 179,
   "id": "f2aebfe5-04dd-4e6a-9b8d-98f34ce02953",
   "metadata": {},
   "outputs": [
    {
     "data": {
      "text/html": [
       "<div>\n",
       "<style scoped>\n",
       "    .dataframe tbody tr th:only-of-type {\n",
       "        vertical-align: middle;\n",
       "    }\n",
       "\n",
       "    .dataframe tbody tr th {\n",
       "        vertical-align: top;\n",
       "    }\n",
       "\n",
       "    .dataframe thead th {\n",
       "        text-align: right;\n",
       "    }\n",
       "</style>\n",
       "<table border=\"1\" class=\"dataframe\">\n",
       "  <thead>\n",
       "    <tr style=\"text-align: right;\">\n",
       "      <th></th>\n",
       "      <th>customer_country</th>\n",
       "      <th>UTC</th>\n",
       "    </tr>\n",
       "  </thead>\n",
       "  <tbody>\n",
       "    <tr>\n",
       "      <th>0</th>\n",
       "      <td>None</td>\n",
       "      <td>376000+00:00</td>\n",
       "    </tr>\n",
       "    <tr>\n",
       "      <th>1</th>\n",
       "      <td>None</td>\n",
       "      <td>376000+00:00</td>\n",
       "    </tr>\n",
       "    <tr>\n",
       "      <th>2</th>\n",
       "      <td>None</td>\n",
       "      <td>376000+00:00</td>\n",
       "    </tr>\n",
       "    <tr>\n",
       "      <th>3</th>\n",
       "      <td>None</td>\n",
       "      <td>376000+00:00</td>\n",
       "    </tr>\n",
       "    <tr>\n",
       "      <th>4</th>\n",
       "      <td>None</td>\n",
       "      <td>376000+00:00</td>\n",
       "    </tr>\n",
       "  </tbody>\n",
       "</table>\n",
       "</div>"
      ],
      "text/plain": [
       "  customer_country           UTC\n",
       "0             None  376000+00:00\n",
       "1             None  376000+00:00\n",
       "2             None  376000+00:00\n",
       "3             None  376000+00:00\n",
       "4             None  376000+00:00"
      ]
     },
     "execution_count": 179,
     "metadata": {},
     "output_type": "execute_result"
    }
   ],
   "source": [
    "df_UTCtest.fillna('None', inplace=True)\n",
    "df_UTCtest.head()"
   ]
  },
  {
   "cell_type": "code",
   "execution_count": 180,
   "id": "027c22af-6653-41fe-82b5-c077893d0418",
   "metadata": {},
   "outputs": [
    {
     "data": {
      "text/plain": [
       "UK      49146\n",
       "CA      33911\n",
       "NZ      32738\n",
       "None    30146\n",
       "Name: customer_country, dtype: int64"
      ]
     },
     "execution_count": 180,
     "metadata": {},
     "output_type": "execute_result"
    }
   ],
   "source": [
    "df_UTCtest['customer_country'].value_counts()"
   ]
  },
  {
   "cell_type": "markdown",
   "id": "f54b5e03-2e30-47ec-96e7-cc74f5143f4c",
   "metadata": {},
   "source": [
    "Comparing the means and medians of the rows that have missing values and the ones that don't"
   ]
  },
  {
   "cell_type": "code",
   "execution_count": 188,
   "id": "a9001af4-a975-4e5d-8c64-b10db351123a",
   "metadata": {},
   "outputs": [
    {
     "data": {
      "text/plain": [
       "(30146, 15)"
      ]
     },
     "execution_count": 188,
     "metadata": {},
     "output_type": "execute_result"
    }
   ],
   "source": [
    "df_missing_customercountries = df_csv.loc[df_csv['customer_country'].isna()].copy()\n",
    "df_missing_customercountries.shape"
   ]
  },
  {
   "cell_type": "code",
   "execution_count": 189,
   "id": "23df5e50-909f-4ecd-8ec0-25bc3acf9cc6",
   "metadata": {},
   "outputs": [
    {
     "data": {
      "text/plain": [
       "(115795, 15)"
      ]
     },
     "execution_count": 189,
     "metadata": {},
     "output_type": "execute_result"
    }
   ],
   "source": [
    "df_complete_customercountries = df_csv.loc[df_csv['customer_country'].notnull()].copy()\n",
    "df_complete_customercountries.shape"
   ]
  },
  {
   "cell_type": "code",
   "execution_count": 190,
   "id": "538148f8-f873-4493-8880-b4872a7056ec",
   "metadata": {},
   "outputs": [
    {
     "name": "stdout",
     "output_type": "stream",
     "text": [
      "15.891407485503427\n",
      "14.966772638703723\n",
      "14.743442831678125\n",
      "14.0\n",
      "13.0\n",
      "12.0\n"
     ]
    }
   ],
   "source": [
    "column_holder = 'customer_id'\n",
    "\n",
    "print(df_missing_customercountries[column_holder].value_counts().mean())\n",
    "print(df_csv[column_holder].value_counts().mean())\n",
    "print(df_complete_customercountries[column_holder].value_counts().mean())\n",
    "\n",
    "print(df_missing_customercountries[column_holder].value_counts().median())\n",
    "print(df_csv[column_holder].value_counts().median())\n",
    "print(df_complete_customercountries[column_holder].value_counts().median())"
   ]
  },
  {
   "cell_type": "code",
   "execution_count": 192,
   "id": "2285a23e-cc6e-4945-9f96-c546360b1a82",
   "metadata": {},
   "outputs": [
    {
     "name": "stdout",
     "output_type": "stream",
     "text": [
      "(1897, 1)\n",
      "(7854, 1)\n"
     ]
    }
   ],
   "source": [
    "df_missing_valcounts = pd.DataFrame(columns=['messages_per_person'])\n",
    "df_complete_valcounts = pd.DataFrame(columns=['messages_per_person'])\n",
    "\n",
    "df_missing_valcounts[\"messages_per_person\"] = df_missing_customercountries[column_holder].value_counts().values\n",
    "df_complete_valcounts[\"messages_per_person\"] = df_complete_customercountries[column_holder].value_counts().values\n",
    "\n",
    "print(df_missing_valcounts.shape)\n",
    "print(df_complete_valcounts.shape)"
   ]
  },
  {
   "cell_type": "markdown",
   "id": "00cd4893-5c03-4617-8592-e5f38b028ccb",
   "metadata": {},
   "source": [
    "Mann Whitney U test shows a statistically significant p when comparing the samples of rows that have missing customer country vs rows that don't have missing customer country"
   ]
  },
  {
   "cell_type": "code",
   "execution_count": 193,
   "id": "68f382c3-efb6-448e-993a-edbb7a65dc88",
   "metadata": {},
   "outputs": [
    {
     "name": "stdout",
     "output_type": "stream",
     "text": [
      "0.006066707733310536\n"
     ]
    }
   ],
   "source": [
    "_, pnorm = mannwhitneyu(df_missing_valcounts[\"messages_per_person\"].sample(n=1500), df_complete_valcounts[\"messages_per_person\"].sample(n=1500), method=\"asymptotic\")\n",
    "print(pnorm)"
   ]
  },
  {
   "cell_type": "code",
   "execution_count": 194,
   "id": "05be4827-aba1-4e34-8234-df16dbaf798a",
   "metadata": {},
   "outputs": [
    {
     "data": {
      "text/plain": [
       "<AxesSubplot: >"
      ]
     },
     "execution_count": 194,
     "metadata": {},
     "output_type": "execute_result"
    },
    {
     "data": {
      "image/png": "[encoded data removed]",
      "text/plain": [
       "<Figure size 640x480 with 1 Axes>"
      ]
     },
     "metadata": {},
     "output_type": "display_data"
    }
   ],
   "source": [
    "df_missing_valcounts[\"messages_per_person\"].hist()"
   ]
  },
  {
   "cell_type": "code",
   "execution_count": 195,
   "id": "8c26fc22-1550-4c32-8ef3-704226ab464e",
   "metadata": {},
   "outputs": [
    {
     "data": {
      "text/plain": [
       "<AxesSubplot: >"
      ]
     },
     "execution_count": 195,
     "metadata": {},
     "output_type": "execute_result"
    },
    {
     "data": {
      "image/png": "[encoded data removed]",
      "text/plain": [
       "<Figure size 640x480 with 1 Axes>"
      ]
     },
     "metadata": {},
     "output_type": "display_data"
    }
   ],
   "source": [
    "df_complete_valcounts[\"messages_per_person\"].hist()"
   ]
  }
 ],
 "metadata": {
  "kernelspec": {
   "display_name": "indebtedvenv",
   "language": "python",
   "name": "indebtedvenv"
  },
  "language_info": {
   "codemirror_mode": {
    "name": "ipython",
    "version": 3
   },
   "file_extension": ".py",
   "mimetype": "text/x-python",
   "name": "python",
   "nbconvert_exporter": "python",
   "pygments_lexer": "ipython3",
   "version": "3.9.5"
  }
 },
 "nbformat": 4,
 "nbformat_minor": 5
}
