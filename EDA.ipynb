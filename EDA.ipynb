{
 "cells": [
  {
   "cell_type": "markdown",
   "id": "886923d7-7215-481d-ac0e-154a306f4c12",
   "metadata": {},
   "source": [
    "# InDebted DA Takehome - Keith Santos\n",
    "I'll be doing an EDA to answer these 5 questions and hopefully gain more insights \n",
    "\n",
    "1. How should we handle the missing values for the columns age and customer_country?\n",
    "2. What time of the day should we send our messages in each country?\n",
    "3. What should be the preferred channel to use when communicating with customers?\n",
    "4. What are the main metrics, dimensions and filters to be included in the dashboard?\n",
    "5. What is the communications performance over time? What could be causing this behaviour?\n"
   ]
  },
  {
   "cell_type": "code",
   "execution_count": 1,
   "id": "91ade0b4-de60-4bfe-89b0-7b5a9afed3d7",
   "metadata": {},
   "outputs": [],
   "source": [
    "import os\n",
    "import pandas as pd\n",
    "import numpy as np\n",
    "import matplotlib.pyplot as plt\n",
    "import seaborn as sns\n",
    "\n",
    "pd.set_option('display.max_rows', None)"
   ]
  },
  {
   "cell_type": "code",
   "execution_count": 10,
   "id": "aadb114f-063f-4e22-92f3-b4fbd64e233d",
   "metadata": {},
   "outputs": [
    {
     "name": "stdout",
     "output_type": "stream",
     "text": [
      "(145941, 15)\n"
     ]
    },
    {
     "data": {
      "text/html": [
       "<div>\n",
       "<style scoped>\n",
       "    .dataframe tbody tr th:only-of-type {\n",
       "        vertical-align: middle;\n",
       "    }\n",
       "\n",
       "    .dataframe tbody tr th {\n",
       "        vertical-align: top;\n",
       "    }\n",
       "\n",
       "    .dataframe thead th {\n",
       "        text-align: right;\n",
       "    }\n",
       "</style>\n",
       "<table border=\"1\" class=\"dataframe\">\n",
       "  <thead>\n",
       "    <tr style=\"text-align: right;\">\n",
       "      <th></th>\n",
       "      <th>message_id</th>\n",
       "      <th>customer_id</th>\n",
       "      <th>sent_at</th>\n",
       "      <th>clicked</th>\n",
       "      <th>converted</th>\n",
       "      <th>client_id</th>\n",
       "      <th>gender</th>\n",
       "      <th>customer_country</th>\n",
       "      <th>age</th>\n",
       "      <th>created_at</th>\n",
       "      <th>client_name</th>\n",
       "      <th>product_type</th>\n",
       "      <th>client_country</th>\n",
       "      <th>channel</th>\n",
       "      <th>message_number</th>\n",
       "    </tr>\n",
       "  </thead>\n",
       "  <tbody>\n",
       "    <tr>\n",
       "      <th>0</th>\n",
       "      <td>28d82c62db5989d9441351f58738c6a8</td>\n",
       "      <td>f13e966f9dc1e2aa7bffec6c9efa8e11</td>\n",
       "      <td>2021-01-04 10:03:16.376000+00:00</td>\n",
       "      <td>0</td>\n",
       "      <td>0</td>\n",
       "      <td>cfcd208495d565ef66e7dff9f98764da</td>\n",
       "      <td>F</td>\n",
       "      <td>NaN</td>\n",
       "      <td>51.0</td>\n",
       "      <td>2021-01-03 15:58:50.376000+00:00</td>\n",
       "      <td>SwanPay</td>\n",
       "      <td>BNPL</td>\n",
       "      <td>UK</td>\n",
       "      <td>SMS</td>\n",
       "      <td>1.0</td>\n",
       "    </tr>\n",
       "    <tr>\n",
       "      <th>1</th>\n",
       "      <td>0f98a1bbf7f2b66f420816a65c8d9b77</td>\n",
       "      <td>f13e966f9dc1e2aa7bffec6c9efa8e11</td>\n",
       "      <td>2021-01-12 08:34:09.376000+00:00</td>\n",
       "      <td>0</td>\n",
       "      <td>0</td>\n",
       "      <td>cfcd208495d565ef66e7dff9f98764da</td>\n",
       "      <td>F</td>\n",
       "      <td>NaN</td>\n",
       "      <td>51.0</td>\n",
       "      <td>2021-01-03 15:58:50.376000+00:00</td>\n",
       "      <td>SwanPay</td>\n",
       "      <td>BNPL</td>\n",
       "      <td>UK</td>\n",
       "      <td>SMS</td>\n",
       "      <td>2.0</td>\n",
       "    </tr>\n",
       "    <tr>\n",
       "      <th>2</th>\n",
       "      <td>97f9ed967d2334ce0b4ebfcfc9b5c25c</td>\n",
       "      <td>f13e966f9dc1e2aa7bffec6c9efa8e11</td>\n",
       "      <td>2021-01-19 08:58:11.376000+00:00</td>\n",
       "      <td>0</td>\n",
       "      <td>0</td>\n",
       "      <td>cfcd208495d565ef66e7dff9f98764da</td>\n",
       "      <td>F</td>\n",
       "      <td>NaN</td>\n",
       "      <td>51.0</td>\n",
       "      <td>2021-01-03 15:58:50.376000+00:00</td>\n",
       "      <td>SwanPay</td>\n",
       "      <td>BNPL</td>\n",
       "      <td>UK</td>\n",
       "      <td>Email</td>\n",
       "      <td>3.0</td>\n",
       "    </tr>\n",
       "    <tr>\n",
       "      <th>3</th>\n",
       "      <td>3d0615ca493d69e16265ab688495c134</td>\n",
       "      <td>f13e966f9dc1e2aa7bffec6c9efa8e11</td>\n",
       "      <td>2021-01-28 10:43:04.376000+00:00</td>\n",
       "      <td>0</td>\n",
       "      <td>0</td>\n",
       "      <td>cfcd208495d565ef66e7dff9f98764da</td>\n",
       "      <td>F</td>\n",
       "      <td>NaN</td>\n",
       "      <td>51.0</td>\n",
       "      <td>2021-01-03 15:58:50.376000+00:00</td>\n",
       "      <td>SwanPay</td>\n",
       "      <td>BNPL</td>\n",
       "      <td>UK</td>\n",
       "      <td>Email</td>\n",
       "      <td>4.0</td>\n",
       "    </tr>\n",
       "    <tr>\n",
       "      <th>4</th>\n",
       "      <td>3eb3a03a007bd1adf7482e6d95f7b942</td>\n",
       "      <td>f13e966f9dc1e2aa7bffec6c9efa8e11</td>\n",
       "      <td>2021-02-04 11:28:56.376000+00:00</td>\n",
       "      <td>0</td>\n",
       "      <td>0</td>\n",
       "      <td>cfcd208495d565ef66e7dff9f98764da</td>\n",
       "      <td>F</td>\n",
       "      <td>NaN</td>\n",
       "      <td>51.0</td>\n",
       "      <td>2021-01-03 15:58:50.376000+00:00</td>\n",
       "      <td>SwanPay</td>\n",
       "      <td>BNPL</td>\n",
       "      <td>UK</td>\n",
       "      <td>Email</td>\n",
       "      <td>5.0</td>\n",
       "    </tr>\n",
       "  </tbody>\n",
       "</table>\n",
       "</div>"
      ],
      "text/plain": [
       "                         message_id                       customer_id  \\\n",
       "0  28d82c62db5989d9441351f58738c6a8  f13e966f9dc1e2aa7bffec6c9efa8e11   \n",
       "1  0f98a1bbf7f2b66f420816a65c8d9b77  f13e966f9dc1e2aa7bffec6c9efa8e11   \n",
       "2  97f9ed967d2334ce0b4ebfcfc9b5c25c  f13e966f9dc1e2aa7bffec6c9efa8e11   \n",
       "3  3d0615ca493d69e16265ab688495c134  f13e966f9dc1e2aa7bffec6c9efa8e11   \n",
       "4  3eb3a03a007bd1adf7482e6d95f7b942  f13e966f9dc1e2aa7bffec6c9efa8e11   \n",
       "\n",
       "                            sent_at  clicked  converted  \\\n",
       "0  2021-01-04 10:03:16.376000+00:00        0          0   \n",
       "1  2021-01-12 08:34:09.376000+00:00        0          0   \n",
       "2  2021-01-19 08:58:11.376000+00:00        0          0   \n",
       "3  2021-01-28 10:43:04.376000+00:00        0          0   \n",
       "4  2021-02-04 11:28:56.376000+00:00        0          0   \n",
       "\n",
       "                          client_id gender customer_country   age  \\\n",
       "0  cfcd208495d565ef66e7dff9f98764da      F              NaN  51.0   \n",
       "1  cfcd208495d565ef66e7dff9f98764da      F              NaN  51.0   \n",
       "2  cfcd208495d565ef66e7dff9f98764da      F              NaN  51.0   \n",
       "3  cfcd208495d565ef66e7dff9f98764da      F              NaN  51.0   \n",
       "4  cfcd208495d565ef66e7dff9f98764da      F              NaN  51.0   \n",
       "\n",
       "                         created_at client_name product_type client_country  \\\n",
       "0  2021-01-03 15:58:50.376000+00:00     SwanPay         BNPL             UK   \n",
       "1  2021-01-03 15:58:50.376000+00:00     SwanPay         BNPL             UK   \n",
       "2  2021-01-03 15:58:50.376000+00:00     SwanPay         BNPL             UK   \n",
       "3  2021-01-03 15:58:50.376000+00:00     SwanPay         BNPL             UK   \n",
       "4  2021-01-03 15:58:50.376000+00:00     SwanPay         BNPL             UK   \n",
       "\n",
       "  channel  message_number  \n",
       "0     SMS             1.0  \n",
       "1     SMS             2.0  \n",
       "2   Email             3.0  \n",
       "3   Email             4.0  \n",
       "4   Email             5.0  "
      ]
     },
     "execution_count": 10,
     "metadata": {},
     "output_type": "execute_result"
    }
   ],
   "source": [
    "df_csv = pd.read_csv('communications.csv')#, on_bad_lines='skip')\n",
    "print(df_csv.shape)\n",
    "df_csv.head()"
   ]
  },
  {
   "cell_type": "code",
   "execution_count": 12,
   "id": "bd142693-a58d-4a9e-88ee-dbf128b6a9dd",
   "metadata": {},
   "outputs": [
    {
     "data": {
      "text/plain": [
       "message_id           object\n",
       "customer_id          object\n",
       "sent_at              object\n",
       "clicked               int64\n",
       "converted             int64\n",
       "client_id            object\n",
       "gender               object\n",
       "customer_country     object\n",
       "age                 float64\n",
       "created_at           object\n",
       "client_name          object\n",
       "product_type         object\n",
       "client_country       object\n",
       "channel              object\n",
       "message_number      float64\n",
       "dtype: object"
      ]
     },
     "execution_count": 12,
     "metadata": {},
     "output_type": "execute_result"
    }
   ],
   "source": [
    "df_csv.dtypes"
   ]
  },
  {
   "cell_type": "markdown",
   "id": "5d0236e3-cead-4ef8-b352-59025cce2e95",
   "metadata": {},
   "source": [
    "### 1. How should we handle the missing values for the columns age and customer_country?"
   ]
  },
  {
   "cell_type": "code",
   "execution_count": 11,
   "id": "d2437b1d-be6a-41ce-b353-795b1f69c022",
   "metadata": {},
   "outputs": [
    {
     "data": {
      "text/plain": [
       "message_id              0\n",
       "customer_id             0\n",
       "sent_at                 0\n",
       "clicked                 0\n",
       "converted               0\n",
       "client_id               0\n",
       "gender              31676\n",
       "customer_country    30146\n",
       "age                 22020\n",
       "created_at              0\n",
       "client_name             0\n",
       "product_type            0\n",
       "client_country          0\n",
       "channel                 0\n",
       "message_number          0\n",
       "dtype: int64"
      ]
     },
     "execution_count": 11,
     "metadata": {},
     "output_type": "execute_result"
    }
   ],
   "source": [
    "df_csv.isna().sum()"
   ]
  },
  {
   "cell_type": "code",
   "execution_count": 13,
   "id": "ccfeb62b-dfe0-4beb-a178-8e9bb2f5727a",
   "metadata": {},
   "outputs": [
    {
     "data": {
      "text/plain": [
       "UK    49146\n",
       "CA    33911\n",
       "NZ    32738\n",
       "Name: customer_country, dtype: int64"
      ]
     },
     "execution_count": 13,
     "metadata": {},
     "output_type": "execute_result"
    }
   ],
   "source": [
    "df_csv[\"customer_country\"].value_counts()"
   ]
  },
  {
   "cell_type": "code",
   "execution_count": 17,
   "id": "00872980-9765-4013-8ed9-c8a6ca5cedd0",
   "metadata": {},
   "outputs": [
    {
     "data": {
      "text/plain": [
       "18.0      909\n",
       "19.0     2615\n",
       "20.0     3811\n",
       "21.0     3617\n",
       "22.0     4478\n",
       "23.0     4271\n",
       "24.0     4499\n",
       "25.0     4291\n",
       "26.0     3846\n",
       "27.0     3046\n",
       "28.0     3249\n",
       "29.0     2428\n",
       "30.0     2272\n",
       "31.0     2642\n",
       "32.0     1698\n",
       "33.0     1720\n",
       "34.0     1122\n",
       "35.0     1146\n",
       "36.0     1069\n",
       "37.0      822\n",
       "38.0     1399\n",
       "39.0     1381\n",
       "40.0     1126\n",
       "41.0     1552\n",
       "42.0     1117\n",
       "43.0     1253\n",
       "44.0     1769\n",
       "45.0     1683\n",
       "46.0     1829\n",
       "47.0     1599\n",
       "48.0     2024\n",
       "49.0     2263\n",
       "50.0     2171\n",
       "51.0    11736\n",
       "52.0     2396\n",
       "53.0     1659\n",
       "54.0     2266\n",
       "55.0     2595\n",
       "56.0     2235\n",
       "57.0     1846\n",
       "58.0     1805\n",
       "59.0     1664\n",
       "60.0     1394\n",
       "61.0     1546\n",
       "62.0     1223\n",
       "63.0     1356\n",
       "64.0      868\n",
       "65.0      933\n",
       "66.0      713\n",
       "67.0      724\n",
       "68.0      741\n",
       "69.0      611\n",
       "70.0      698\n",
       "71.0      821\n",
       "72.0     1046\n",
       "73.0      782\n",
       "74.0      772\n",
       "75.0      494\n",
       "76.0      627\n",
       "77.0      472\n",
       "78.0      692\n",
       "79.0      487\n",
       "80.0      328\n",
       "81.0      523\n",
       "82.0      431\n",
       "83.0      304\n",
       "84.0      444\n",
       "85.0      154\n",
       "86.0      195\n",
       "87.0      342\n",
       "88.0      186\n",
       "89.0      232\n",
       "90.0      223\n",
       "91.0      148\n",
       "92.0      166\n",
       "93.0       85\n",
       "94.0      100\n",
       "95.0      131\n",
       "96.0       10\n",
       "Name: age, dtype: int64"
      ]
     },
     "execution_count": 17,
     "metadata": {},
     "output_type": "execute_result"
    }
   ],
   "source": [
    "df_csv[\"age\"].value_counts().sort_index()"
   ]
  },
  {
   "cell_type": "code",
   "execution_count": null,
   "id": "13bb9801-94f4-45ec-9cda-8bb2469f51fc",
   "metadata": {},
   "outputs": [],
   "source": []
  }
 ],
 "metadata": {
  "kernelspec": {
   "display_name": "indebtedvenv",
   "language": "python",
   "name": "indebtedvenv"
  },
  "language_info": {
   "codemirror_mode": {
    "name": "ipython",
    "version": 3
   },
   "file_extension": ".py",
   "mimetype": "text/x-python",
   "name": "python",
   "nbconvert_exporter": "python",
   "pygments_lexer": "ipython3",
   "version": "3.9.5"
  }
 },
 "nbformat": 4,
 "nbformat_minor": 5
}
